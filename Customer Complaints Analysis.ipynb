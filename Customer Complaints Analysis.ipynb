{
 "cells": [
  {
   "cell_type": "markdown",
   "metadata": {},
   "source": [
    "# Customer Complaints Classification\n",
    "\n",
    "### Pujan Malavia"
   ]
  },
  {
   "cell_type": "code",
   "execution_count": null,
   "metadata": {},
   "outputs": [],
   "source": [
    "from IPython.display import display\n",
    "from PIL import Image\n",
    "path= \"C:/Users/puj83/OneDrive/Portfolio/Complaints/cfpb.png\"\n",
    "display(Image.open(path))"
   ]
  },
  {
   "cell_type": "markdown",
   "metadata": {},
   "source": [
    "### Link to Dataset:\n",
    "https://catalog.data.gov/dataset/consumer-complaint-database"
   ]
  },
  {
   "cell_type": "markdown",
   "metadata": {},
   "source": [
    "### Abstract:\n",
    "Each week the American Consumer Financial Protection Bureau (CFPB) sends thousands of consumers’ complaints about financial products and services to companies for response. Those complaints are published here CFPB after the company responds or after 15 days. By adding their voice, consumers help improve the financial marketplace get their voices heard.\n",
    "\n",
    "https://www.kaggle.com/cfpb/us-consumer-finance-complaints\n",
    "\n",
    "https://www.consumerfinance.gov/"
   ]
  },
  {
   "cell_type": "markdown",
   "metadata": {},
   "source": [
    "### Industry:\n",
    "Government Administration/Financial Services"
   ]
  },
  {
   "cell_type": "markdown",
   "metadata": {},
   "source": [
    "### Company Information:\n",
    "The Consumer Financial Protection Bureau (CFPB) is an agency of the United States government responsible for consumer protection in the financial sector. CFPB's jurisdiction includes banks, credit unions, securities firms, payday lenders, mortgage-servicing operations, foreclosure relief services, debt collectors and other financial companies operating in the United States.\n",
    "\n",
    "https://en.wikipedia.org/wiki/Consumer_Financial_Protection_Bureau\n",
    "https://www.consumerfinance.gov/"
   ]
  },
  {
   "cell_type": "markdown",
   "metadata": {},
   "source": [
    "### Tool:\n",
    "Python (Jupyter Notebook)"
   ]
  },
  {
   "cell_type": "markdown",
   "metadata": {},
   "source": [
    "### Use Case:\n",
    "\n",
    "Building a model to predict consumer disputation rate"
   ]
  },
  {
   "cell_type": "markdown",
   "metadata": {},
   "source": [
    "### Initial Dataset(s):\n",
    "\n",
    "Consumer Complaints Class "
   ]
  },
  {
   "cell_type": "markdown",
   "metadata": {},
   "source": [
    "### Data:\n",
    "\n",
    "The Consumer Complaint Database is a collection of complaints about consumer financial products and services that we sent to companies for response. Complaints are published after the company responds, confirming a commercial relationship with the consumer, or after 15 days, whichever comes first. Complaints referred to other regulators, such as complaints about depository institutions with less than $10 billion in assets, are not published in the Consumer Complaint Database. The database generally updates daily."
   ]
  },
  {
   "cell_type": "markdown",
   "metadata": {},
   "source": [
    "### Data Fields:\n",
    "\n",
    "Date received\n",
    "\n",
    "Product\n",
    "\n",
    "Sub-product\n",
    "\n",
    "Issue\n",
    "\n",
    "Sub-issue\n",
    "\n",
    "Consumer complaint narrative\n",
    "\n",
    "Company public response\n",
    "\n",
    "Company\n",
    "\n",
    "State\n",
    "\n",
    "ZIP code\n",
    "\n",
    "Tags\n",
    "\n",
    "Consumer consent provided?\n",
    "\n",
    "Submitted via\n",
    "\n",
    "Date sent to company\n",
    "\n",
    "Company response to consumer\n",
    "\n",
    "Timely response?\n",
    "\n",
    "Consumer disputed?\n",
    "\n",
    "Complaint ID\n"
   ]
  },
  {
   "cell_type": "code",
   "execution_count": null,
   "metadata": {},
   "outputs": [],
   "source": [
    "# !pip install matplotlib.pyplot\n",
    "# !pip install scikit-plot"
   ]
  },
  {
   "cell_type": "markdown",
   "metadata": {},
   "source": [
    "### Importing Libraries"
   ]
  },
  {
   "cell_type": "code",
   "execution_count": 55,
   "metadata": {},
   "outputs": [],
   "source": [
    "import pandas as pd\n",
    "from pandas import DataFrame, Series\n",
    "import numpy as np\n",
    "import matplotlib.pyplot as plt\n",
    "import datetime\n",
    "import random\n",
    "from sklearn.feature_extraction.text import TfidfVectorizer,CountVectorizer\n",
    "from sklearn.preprocessing import StandardScaler\n",
    "import scikitplot as skplt\n",
    "%matplotlib inline"
   ]
  },
  {
   "cell_type": "markdown",
   "metadata": {},
   "source": [
    "### Importing Dataset(s) "
   ]
  },
  {
   "cell_type": "code",
   "execution_count": 56,
   "metadata": {},
   "outputs": [],
   "source": [
    "# Read dataframe into Jupyter\n",
    "df = pd.read_csv('C:/Users/puj83/OneDrive/Portfolio/Complaints/complaints.csv')\n",
    "df = df[df['Consumer disputed?'].notnull()]"
   ]
  },
  {
   "cell_type": "code",
   "execution_count": 57,
   "metadata": {},
   "outputs": [
    {
     "data": {
      "text/html": [
       "<div>\n",
       "<style scoped>\n",
       "    .dataframe tbody tr th:only-of-type {\n",
       "        vertical-align: middle;\n",
       "    }\n",
       "\n",
       "    .dataframe tbody tr th {\n",
       "        vertical-align: top;\n",
       "    }\n",
       "\n",
       "    .dataframe thead th {\n",
       "        text-align: right;\n",
       "    }\n",
       "</style>\n",
       "<table border=\"1\" class=\"dataframe\">\n",
       "  <thead>\n",
       "    <tr style=\"text-align: right;\">\n",
       "      <th></th>\n",
       "      <th>175</th>\n",
       "      <th>256</th>\n",
       "      <th>289</th>\n",
       "      <th>407</th>\n",
       "      <th>556</th>\n",
       "      <th>632</th>\n",
       "      <th>740</th>\n",
       "      <th>953</th>\n",
       "      <th>1013</th>\n",
       "      <th>1066</th>\n",
       "      <th>1230</th>\n",
       "      <th>1692</th>\n",
       "      <th>1929</th>\n",
       "      <th>2696</th>\n",
       "      <th>3386</th>\n",
       "    </tr>\n",
       "  </thead>\n",
       "  <tbody>\n",
       "    <tr>\n",
       "      <th>Date received</th>\n",
       "      <td>2016-07-13</td>\n",
       "      <td>2017-04-13</td>\n",
       "      <td>2016-06-29</td>\n",
       "      <td>2015-05-20</td>\n",
       "      <td>2016-01-15</td>\n",
       "      <td>2016-10-17</td>\n",
       "      <td>2016-09-20</td>\n",
       "      <td>2015-12-04</td>\n",
       "      <td>2016-07-14</td>\n",
       "      <td>2016-08-22</td>\n",
       "      <td>2015-04-06</td>\n",
       "      <td>2016-05-12</td>\n",
       "      <td>2016-12-22</td>\n",
       "      <td>2016-06-13</td>\n",
       "      <td>2016-08-21</td>\n",
       "    </tr>\n",
       "    <tr>\n",
       "      <th>Product</th>\n",
       "      <td>Debt collection</td>\n",
       "      <td>Credit card</td>\n",
       "      <td>Debt collection</td>\n",
       "      <td>Debt collection</td>\n",
       "      <td>Bank account or service</td>\n",
       "      <td>Debt collection</td>\n",
       "      <td>Debt collection</td>\n",
       "      <td>Consumer Loan</td>\n",
       "      <td>Debt collection</td>\n",
       "      <td>Consumer Loan</td>\n",
       "      <td>Debt collection</td>\n",
       "      <td>Credit card</td>\n",
       "      <td>Credit card</td>\n",
       "      <td>Debt collection</td>\n",
       "      <td>Debt collection</td>\n",
       "    </tr>\n",
       "    <tr>\n",
       "      <th>Sub-product</th>\n",
       "      <td>I do not know</td>\n",
       "      <td>NaN</td>\n",
       "      <td>Credit card</td>\n",
       "      <td>Payday loan</td>\n",
       "      <td>Savings account</td>\n",
       "      <td>Payday loan</td>\n",
       "      <td>Payday loan</td>\n",
       "      <td>Installment loan</td>\n",
       "      <td>I do not know</td>\n",
       "      <td>Installment loan</td>\n",
       "      <td>I do not know</td>\n",
       "      <td>NaN</td>\n",
       "      <td>NaN</td>\n",
       "      <td>Credit card</td>\n",
       "      <td>Other (i.e. phone, health club, etc.)</td>\n",
       "    </tr>\n",
       "    <tr>\n",
       "      <th>Issue</th>\n",
       "      <td>Disclosure verification of debt</td>\n",
       "      <td>Other</td>\n",
       "      <td>Taking/threatening an illegal action</td>\n",
       "      <td>Communication tactics</td>\n",
       "      <td>Deposits and withdrawals</td>\n",
       "      <td>Cont'd attempts collect debt not owed</td>\n",
       "      <td>Taking/threatening an illegal action</td>\n",
       "      <td>Shopping for a loan or lease</td>\n",
       "      <td>Cont'd attempts collect debt not owed</td>\n",
       "      <td>Managing the loan or lease</td>\n",
       "      <td>Cont'd attempts collect debt not owed</td>\n",
       "      <td>Identity theft / Fraud / Embezzlement</td>\n",
       "      <td>Billing disputes</td>\n",
       "      <td>Taking/threatening an illegal action</td>\n",
       "      <td>Cont'd attempts collect debt not owed</td>\n",
       "    </tr>\n",
       "    <tr>\n",
       "      <th>Sub-issue</th>\n",
       "      <td>Right to dispute notice not received</td>\n",
       "      <td>NaN</td>\n",
       "      <td>Threatened to sue on too old debt</td>\n",
       "      <td>Called after sent written cease of comm</td>\n",
       "      <td>NaN</td>\n",
       "      <td>Debt is not mine</td>\n",
       "      <td>Threatened to sue on too old debt</td>\n",
       "      <td>NaN</td>\n",
       "      <td>Debt is not mine</td>\n",
       "      <td>NaN</td>\n",
       "      <td>Debt is not mine</td>\n",
       "      <td>NaN</td>\n",
       "      <td>NaN</td>\n",
       "      <td>Threatened to sue on too old debt</td>\n",
       "      <td>Debt was paid</td>\n",
       "    </tr>\n",
       "    <tr>\n",
       "      <th>Consumer complaint narrative</th>\n",
       "      <td>I monitor my credit report, more frequently no...</td>\n",
       "      <td>I was stupid enough to charge some items at MA...</td>\n",
       "      <td>XXXX/XXXX/XXXX I received a letter from ARA, I...</td>\n",
       "      <td>I had my vehicle repoed &amp; I had to use XXXX pa...</td>\n",
       "      <td>NaN</td>\n",
       "      <td>Received notification of newly added collectio...</td>\n",
       "      <td>At around XXXX on XX/XX/XXXX, I received a cal...</td>\n",
       "      <td>Financial phishing!!! Was getting XXXX hang-up...</td>\n",
       "      <td>I have a collection showing on my credit repor...</td>\n",
       "      <td>In XXXX XXXX, I received a loan from the XXXX ...</td>\n",
       "      <td>Recieved from ARA Inc., a demand for payment o...</td>\n",
       "      <td>NaN</td>\n",
       "      <td>NaN</td>\n",
       "      <td>I received multiple calls from an unknown numb...</td>\n",
       "      <td>This complaint is written in reference to a Mi...</td>\n",
       "    </tr>\n",
       "    <tr>\n",
       "      <th>Company public response</th>\n",
       "      <td>NaN</td>\n",
       "      <td>Company has responded to the consumer and the ...</td>\n",
       "      <td>NaN</td>\n",
       "      <td>Company believes complaint represents an oppor...</td>\n",
       "      <td>NaN</td>\n",
       "      <td>Company believes it acted appropriately as aut...</td>\n",
       "      <td>Company believes it acted appropriately as aut...</td>\n",
       "      <td>NaN</td>\n",
       "      <td>NaN</td>\n",
       "      <td>Company believes it acted appropriately as aut...</td>\n",
       "      <td>NaN</td>\n",
       "      <td>Company has responded to the consumer and the ...</td>\n",
       "      <td>NaN</td>\n",
       "      <td>NaN</td>\n",
       "      <td>Company believes it acted appropriately as aut...</td>\n",
       "    </tr>\n",
       "    <tr>\n",
       "      <th>Company</th>\n",
       "      <td>Midwest Recovery Systems</td>\n",
       "      <td>CITIBANK, N.A.</td>\n",
       "      <td>Financial Credit Service, Inc.</td>\n",
       "      <td>Chek Cash, Inc.</td>\n",
       "      <td>FIRSTBANK PUERTO RICO</td>\n",
       "      <td>Midwest Recovery Systems</td>\n",
       "      <td>Midwest Recovery Systems</td>\n",
       "      <td>Opportunity Financial, LLC</td>\n",
       "      <td>Midwest Recovery Systems</td>\n",
       "      <td>Midwest Recovery Systems</td>\n",
       "      <td>Financial Credit Service, Inc.</td>\n",
       "      <td>BANK OF AMERICA, NATIONAL ASSOCIATION</td>\n",
       "      <td>JPMORGAN CHASE &amp; CO.</td>\n",
       "      <td>Financial Credit Service, Inc.</td>\n",
       "      <td>Midwest Recovery Systems</td>\n",
       "    </tr>\n",
       "    <tr>\n",
       "      <th>State</th>\n",
       "      <td>VA</td>\n",
       "      <td>NC</td>\n",
       "      <td>TX</td>\n",
       "      <td>TX</td>\n",
       "      <td>PR</td>\n",
       "      <td>CA</td>\n",
       "      <td>CA</td>\n",
       "      <td>MO</td>\n",
       "      <td>TX</td>\n",
       "      <td>CO</td>\n",
       "      <td>FL</td>\n",
       "      <td>FL</td>\n",
       "      <td>CA</td>\n",
       "      <td>WA</td>\n",
       "      <td>GA</td>\n",
       "    </tr>\n",
       "    <tr>\n",
       "      <th>ZIP code</th>\n",
       "      <td>NaN</td>\n",
       "      <td>286XX</td>\n",
       "      <td>NaN</td>\n",
       "      <td>770XX</td>\n",
       "      <td>00682</td>\n",
       "      <td>910XX</td>\n",
       "      <td>916XX</td>\n",
       "      <td>64123</td>\n",
       "      <td>NaN</td>\n",
       "      <td>801XX</td>\n",
       "      <td>33424</td>\n",
       "      <td>342XX</td>\n",
       "      <td>92866</td>\n",
       "      <td>981XX</td>\n",
       "      <td>303XX</td>\n",
       "    </tr>\n",
       "    <tr>\n",
       "      <th>Tags</th>\n",
       "      <td>Servicemember</td>\n",
       "      <td>NaN</td>\n",
       "      <td>NaN</td>\n",
       "      <td>NaN</td>\n",
       "      <td>NaN</td>\n",
       "      <td>NaN</td>\n",
       "      <td>NaN</td>\n",
       "      <td>NaN</td>\n",
       "      <td>NaN</td>\n",
       "      <td>Servicemember</td>\n",
       "      <td>NaN</td>\n",
       "      <td>NaN</td>\n",
       "      <td>Older American</td>\n",
       "      <td>NaN</td>\n",
       "      <td>NaN</td>\n",
       "    </tr>\n",
       "    <tr>\n",
       "      <th>Consumer consent provided?</th>\n",
       "      <td>Consent provided</td>\n",
       "      <td>Consent provided</td>\n",
       "      <td>Consent provided</td>\n",
       "      <td>Consent provided</td>\n",
       "      <td>Consent not provided</td>\n",
       "      <td>Consent provided</td>\n",
       "      <td>Consent provided</td>\n",
       "      <td>Consent provided</td>\n",
       "      <td>Consent provided</td>\n",
       "      <td>Consent provided</td>\n",
       "      <td>Consent provided</td>\n",
       "      <td>Consent not provided</td>\n",
       "      <td>NaN</td>\n",
       "      <td>Consent provided</td>\n",
       "      <td>Consent provided</td>\n",
       "    </tr>\n",
       "    <tr>\n",
       "      <th>Submitted via</th>\n",
       "      <td>Web</td>\n",
       "      <td>Web</td>\n",
       "      <td>Web</td>\n",
       "      <td>Web</td>\n",
       "      <td>Web</td>\n",
       "      <td>Web</td>\n",
       "      <td>Web</td>\n",
       "      <td>Web</td>\n",
       "      <td>Web</td>\n",
       "      <td>Web</td>\n",
       "      <td>Web</td>\n",
       "      <td>Web</td>\n",
       "      <td>Phone</td>\n",
       "      <td>Web</td>\n",
       "      <td>Web</td>\n",
       "    </tr>\n",
       "    <tr>\n",
       "      <th>Date sent to company</th>\n",
       "      <td>2016-07-13</td>\n",
       "      <td>2017-04-13</td>\n",
       "      <td>2016-06-30</td>\n",
       "      <td>2015-07-02</td>\n",
       "      <td>2016-01-21</td>\n",
       "      <td>2016-10-17</td>\n",
       "      <td>2016-09-20</td>\n",
       "      <td>2015-12-15</td>\n",
       "      <td>2016-07-14</td>\n",
       "      <td>2016-08-24</td>\n",
       "      <td>2015-04-06</td>\n",
       "      <td>2016-05-12</td>\n",
       "      <td>2016-12-22</td>\n",
       "      <td>2016-07-12</td>\n",
       "      <td>2016-08-21</td>\n",
       "    </tr>\n",
       "    <tr>\n",
       "      <th>Company response to consumer</th>\n",
       "      <td>Closed with explanation</td>\n",
       "      <td>Closed with monetary relief</td>\n",
       "      <td>Closed with explanation</td>\n",
       "      <td>Closed with explanation</td>\n",
       "      <td>Closed with explanation</td>\n",
       "      <td>Closed with explanation</td>\n",
       "      <td>Closed with explanation</td>\n",
       "      <td>Closed with explanation</td>\n",
       "      <td>Closed with explanation</td>\n",
       "      <td>Closed with explanation</td>\n",
       "      <td>Closed with explanation</td>\n",
       "      <td>Closed with non-monetary relief</td>\n",
       "      <td>Closed with explanation</td>\n",
       "      <td>Closed with explanation</td>\n",
       "      <td>Closed with explanation</td>\n",
       "    </tr>\n",
       "    <tr>\n",
       "      <th>Timely response?</th>\n",
       "      <td>No</td>\n",
       "      <td>Yes</td>\n",
       "      <td>No</td>\n",
       "      <td>Yes</td>\n",
       "      <td>Yes</td>\n",
       "      <td>Yes</td>\n",
       "      <td>Yes</td>\n",
       "      <td>No</td>\n",
       "      <td>No</td>\n",
       "      <td>No</td>\n",
       "      <td>Yes</td>\n",
       "      <td>Yes</td>\n",
       "      <td>Yes</td>\n",
       "      <td>Yes</td>\n",
       "      <td>No</td>\n",
       "    </tr>\n",
       "    <tr>\n",
       "      <th>Consumer disputed?</th>\n",
       "      <td>Yes</td>\n",
       "      <td>No</td>\n",
       "      <td>No</td>\n",
       "      <td>No</td>\n",
       "      <td>No</td>\n",
       "      <td>No</td>\n",
       "      <td>No</td>\n",
       "      <td>No</td>\n",
       "      <td>No</td>\n",
       "      <td>No</td>\n",
       "      <td>Yes</td>\n",
       "      <td>No</td>\n",
       "      <td>No</td>\n",
       "      <td>No</td>\n",
       "      <td>No</td>\n",
       "    </tr>\n",
       "    <tr>\n",
       "      <th>Complaint ID</th>\n",
       "      <td>2010655</td>\n",
       "      <td>2432795</td>\n",
       "      <td>1991793</td>\n",
       "      <td>1384427</td>\n",
       "      <td>1744283</td>\n",
       "      <td>2163493</td>\n",
       "      <td>2122251</td>\n",
       "      <td>1683986</td>\n",
       "      <td>2011641</td>\n",
       "      <td>2073857</td>\n",
       "      <td>1318032</td>\n",
       "      <td>1921736</td>\n",
       "      <td>2259864</td>\n",
       "      <td>1967270</td>\n",
       "      <td>2073899</td>\n",
       "    </tr>\n",
       "  </tbody>\n",
       "</table>\n",
       "</div>"
      ],
      "text/plain": [
       "                                                                           175   \\\n",
       "Date received                                                        2016-07-13   \n",
       "Product                                                         Debt collection   \n",
       "Sub-product                                                       I do not know   \n",
       "Issue                                           Disclosure verification of debt   \n",
       "Sub-issue                                  Right to dispute notice not received   \n",
       "Consumer complaint narrative  I monitor my credit report, more frequently no...   \n",
       "Company public response                                                     NaN   \n",
       "Company                                                Midwest Recovery Systems   \n",
       "State                                                                        VA   \n",
       "ZIP code                                                                    NaN   \n",
       "Tags                                                              Servicemember   \n",
       "Consumer consent provided?                                     Consent provided   \n",
       "Submitted via                                                               Web   \n",
       "Date sent to company                                                 2016-07-13   \n",
       "Company response to consumer                            Closed with explanation   \n",
       "Timely response?                                                             No   \n",
       "Consumer disputed?                                                          Yes   \n",
       "Complaint ID                                                            2010655   \n",
       "\n",
       "                                                                           256   \\\n",
       "Date received                                                        2017-04-13   \n",
       "Product                                                             Credit card   \n",
       "Sub-product                                                                 NaN   \n",
       "Issue                                                                     Other   \n",
       "Sub-issue                                                                   NaN   \n",
       "Consumer complaint narrative  I was stupid enough to charge some items at MA...   \n",
       "Company public response       Company has responded to the consumer and the ...   \n",
       "Company                                                          CITIBANK, N.A.   \n",
       "State                                                                        NC   \n",
       "ZIP code                                                                  286XX   \n",
       "Tags                                                                        NaN   \n",
       "Consumer consent provided?                                     Consent provided   \n",
       "Submitted via                                                               Web   \n",
       "Date sent to company                                                 2017-04-13   \n",
       "Company response to consumer                        Closed with monetary relief   \n",
       "Timely response?                                                            Yes   \n",
       "Consumer disputed?                                                           No   \n",
       "Complaint ID                                                            2432795   \n",
       "\n",
       "                                                                           289   \\\n",
       "Date received                                                        2016-06-29   \n",
       "Product                                                         Debt collection   \n",
       "Sub-product                                                         Credit card   \n",
       "Issue                                      Taking/threatening an illegal action   \n",
       "Sub-issue                                     Threatened to sue on too old debt   \n",
       "Consumer complaint narrative  XXXX/XXXX/XXXX I received a letter from ARA, I...   \n",
       "Company public response                                                     NaN   \n",
       "Company                                          Financial Credit Service, Inc.   \n",
       "State                                                                        TX   \n",
       "ZIP code                                                                    NaN   \n",
       "Tags                                                                        NaN   \n",
       "Consumer consent provided?                                     Consent provided   \n",
       "Submitted via                                                               Web   \n",
       "Date sent to company                                                 2016-06-30   \n",
       "Company response to consumer                            Closed with explanation   \n",
       "Timely response?                                                             No   \n",
       "Consumer disputed?                                                           No   \n",
       "Complaint ID                                                            1991793   \n",
       "\n",
       "                                                                           407   \\\n",
       "Date received                                                        2015-05-20   \n",
       "Product                                                         Debt collection   \n",
       "Sub-product                                                         Payday loan   \n",
       "Issue                                                     Communication tactics   \n",
       "Sub-issue                               Called after sent written cease of comm   \n",
       "Consumer complaint narrative  I had my vehicle repoed & I had to use XXXX pa...   \n",
       "Company public response       Company believes complaint represents an oppor...   \n",
       "Company                                                         Chek Cash, Inc.   \n",
       "State                                                                        TX   \n",
       "ZIP code                                                                  770XX   \n",
       "Tags                                                                        NaN   \n",
       "Consumer consent provided?                                     Consent provided   \n",
       "Submitted via                                                               Web   \n",
       "Date sent to company                                                 2015-07-02   \n",
       "Company response to consumer                            Closed with explanation   \n",
       "Timely response?                                                            Yes   \n",
       "Consumer disputed?                                                           No   \n",
       "Complaint ID                                                            1384427   \n",
       "\n",
       "                                                  556   \\\n",
       "Date received                               2016-01-15   \n",
       "Product                        Bank account or service   \n",
       "Sub-product                            Savings account   \n",
       "Issue                         Deposits and withdrawals   \n",
       "Sub-issue                                          NaN   \n",
       "Consumer complaint narrative                       NaN   \n",
       "Company public response                            NaN   \n",
       "Company                          FIRSTBANK PUERTO RICO   \n",
       "State                                               PR   \n",
       "ZIP code                                         00682   \n",
       "Tags                                               NaN   \n",
       "Consumer consent provided?        Consent not provided   \n",
       "Submitted via                                      Web   \n",
       "Date sent to company                        2016-01-21   \n",
       "Company response to consumer   Closed with explanation   \n",
       "Timely response?                                   Yes   \n",
       "Consumer disputed?                                  No   \n",
       "Complaint ID                                   1744283   \n",
       "\n",
       "                                                                           632   \\\n",
       "Date received                                                        2016-10-17   \n",
       "Product                                                         Debt collection   \n",
       "Sub-product                                                         Payday loan   \n",
       "Issue                                     Cont'd attempts collect debt not owed   \n",
       "Sub-issue                                                      Debt is not mine   \n",
       "Consumer complaint narrative  Received notification of newly added collectio...   \n",
       "Company public response       Company believes it acted appropriately as aut...   \n",
       "Company                                                Midwest Recovery Systems   \n",
       "State                                                                        CA   \n",
       "ZIP code                                                                  910XX   \n",
       "Tags                                                                        NaN   \n",
       "Consumer consent provided?                                     Consent provided   \n",
       "Submitted via                                                               Web   \n",
       "Date sent to company                                                 2016-10-17   \n",
       "Company response to consumer                            Closed with explanation   \n",
       "Timely response?                                                            Yes   \n",
       "Consumer disputed?                                                           No   \n",
       "Complaint ID                                                            2163493   \n",
       "\n",
       "                                                                           740   \\\n",
       "Date received                                                        2016-09-20   \n",
       "Product                                                         Debt collection   \n",
       "Sub-product                                                         Payday loan   \n",
       "Issue                                      Taking/threatening an illegal action   \n",
       "Sub-issue                                     Threatened to sue on too old debt   \n",
       "Consumer complaint narrative  At around XXXX on XX/XX/XXXX, I received a cal...   \n",
       "Company public response       Company believes it acted appropriately as aut...   \n",
       "Company                                                Midwest Recovery Systems   \n",
       "State                                                                        CA   \n",
       "ZIP code                                                                  916XX   \n",
       "Tags                                                                        NaN   \n",
       "Consumer consent provided?                                     Consent provided   \n",
       "Submitted via                                                               Web   \n",
       "Date sent to company                                                 2016-09-20   \n",
       "Company response to consumer                            Closed with explanation   \n",
       "Timely response?                                                            Yes   \n",
       "Consumer disputed?                                                           No   \n",
       "Complaint ID                                                            2122251   \n",
       "\n",
       "                                                                           953   \\\n",
       "Date received                                                        2015-12-04   \n",
       "Product                                                           Consumer Loan   \n",
       "Sub-product                                                    Installment loan   \n",
       "Issue                                              Shopping for a loan or lease   \n",
       "Sub-issue                                                                   NaN   \n",
       "Consumer complaint narrative  Financial phishing!!! Was getting XXXX hang-up...   \n",
       "Company public response                                                     NaN   \n",
       "Company                                              Opportunity Financial, LLC   \n",
       "State                                                                        MO   \n",
       "ZIP code                                                                  64123   \n",
       "Tags                                                                        NaN   \n",
       "Consumer consent provided?                                     Consent provided   \n",
       "Submitted via                                                               Web   \n",
       "Date sent to company                                                 2015-12-15   \n",
       "Company response to consumer                            Closed with explanation   \n",
       "Timely response?                                                             No   \n",
       "Consumer disputed?                                                           No   \n",
       "Complaint ID                                                            1683986   \n",
       "\n",
       "                                                                           1013  \\\n",
       "Date received                                                        2016-07-14   \n",
       "Product                                                         Debt collection   \n",
       "Sub-product                                                       I do not know   \n",
       "Issue                                     Cont'd attempts collect debt not owed   \n",
       "Sub-issue                                                      Debt is not mine   \n",
       "Consumer complaint narrative  I have a collection showing on my credit repor...   \n",
       "Company public response                                                     NaN   \n",
       "Company                                                Midwest Recovery Systems   \n",
       "State                                                                        TX   \n",
       "ZIP code                                                                    NaN   \n",
       "Tags                                                                        NaN   \n",
       "Consumer consent provided?                                     Consent provided   \n",
       "Submitted via                                                               Web   \n",
       "Date sent to company                                                 2016-07-14   \n",
       "Company response to consumer                            Closed with explanation   \n",
       "Timely response?                                                             No   \n",
       "Consumer disputed?                                                           No   \n",
       "Complaint ID                                                            2011641   \n",
       "\n",
       "                                                                           1066  \\\n",
       "Date received                                                        2016-08-22   \n",
       "Product                                                           Consumer Loan   \n",
       "Sub-product                                                    Installment loan   \n",
       "Issue                                                Managing the loan or lease   \n",
       "Sub-issue                                                                   NaN   \n",
       "Consumer complaint narrative  In XXXX XXXX, I received a loan from the XXXX ...   \n",
       "Company public response       Company believes it acted appropriately as aut...   \n",
       "Company                                                Midwest Recovery Systems   \n",
       "State                                                                        CO   \n",
       "ZIP code                                                                  801XX   \n",
       "Tags                                                              Servicemember   \n",
       "Consumer consent provided?                                     Consent provided   \n",
       "Submitted via                                                               Web   \n",
       "Date sent to company                                                 2016-08-24   \n",
       "Company response to consumer                            Closed with explanation   \n",
       "Timely response?                                                             No   \n",
       "Consumer disputed?                                                           No   \n",
       "Complaint ID                                                            2073857   \n",
       "\n",
       "                                                                           1230  \\\n",
       "Date received                                                        2015-04-06   \n",
       "Product                                                         Debt collection   \n",
       "Sub-product                                                       I do not know   \n",
       "Issue                                     Cont'd attempts collect debt not owed   \n",
       "Sub-issue                                                      Debt is not mine   \n",
       "Consumer complaint narrative  Recieved from ARA Inc., a demand for payment o...   \n",
       "Company public response                                                     NaN   \n",
       "Company                                          Financial Credit Service, Inc.   \n",
       "State                                                                        FL   \n",
       "ZIP code                                                                  33424   \n",
       "Tags                                                                        NaN   \n",
       "Consumer consent provided?                                     Consent provided   \n",
       "Submitted via                                                               Web   \n",
       "Date sent to company                                                 2015-04-06   \n",
       "Company response to consumer                            Closed with explanation   \n",
       "Timely response?                                                            Yes   \n",
       "Consumer disputed?                                                          Yes   \n",
       "Complaint ID                                                            1318032   \n",
       "\n",
       "                                                                           1692  \\\n",
       "Date received                                                        2016-05-12   \n",
       "Product                                                             Credit card   \n",
       "Sub-product                                                                 NaN   \n",
       "Issue                                     Identity theft / Fraud / Embezzlement   \n",
       "Sub-issue                                                                   NaN   \n",
       "Consumer complaint narrative                                                NaN   \n",
       "Company public response       Company has responded to the consumer and the ...   \n",
       "Company                                   BANK OF AMERICA, NATIONAL ASSOCIATION   \n",
       "State                                                                        FL   \n",
       "ZIP code                                                                  342XX   \n",
       "Tags                                                                        NaN   \n",
       "Consumer consent provided?                                 Consent not provided   \n",
       "Submitted via                                                               Web   \n",
       "Date sent to company                                                 2016-05-12   \n",
       "Company response to consumer                    Closed with non-monetary relief   \n",
       "Timely response?                                                            Yes   \n",
       "Consumer disputed?                                                           No   \n",
       "Complaint ID                                                            1921736   \n",
       "\n",
       "                                                 1929  \\\n",
       "Date received                              2016-12-22   \n",
       "Product                                   Credit card   \n",
       "Sub-product                                       NaN   \n",
       "Issue                                Billing disputes   \n",
       "Sub-issue                                         NaN   \n",
       "Consumer complaint narrative                      NaN   \n",
       "Company public response                           NaN   \n",
       "Company                          JPMORGAN CHASE & CO.   \n",
       "State                                              CA   \n",
       "ZIP code                                        92866   \n",
       "Tags                                   Older American   \n",
       "Consumer consent provided?                        NaN   \n",
       "Submitted via                                   Phone   \n",
       "Date sent to company                       2016-12-22   \n",
       "Company response to consumer  Closed with explanation   \n",
       "Timely response?                                  Yes   \n",
       "Consumer disputed?                                 No   \n",
       "Complaint ID                                  2259864   \n",
       "\n",
       "                                                                           2696  \\\n",
       "Date received                                                        2016-06-13   \n",
       "Product                                                         Debt collection   \n",
       "Sub-product                                                         Credit card   \n",
       "Issue                                      Taking/threatening an illegal action   \n",
       "Sub-issue                                     Threatened to sue on too old debt   \n",
       "Consumer complaint narrative  I received multiple calls from an unknown numb...   \n",
       "Company public response                                                     NaN   \n",
       "Company                                          Financial Credit Service, Inc.   \n",
       "State                                                                        WA   \n",
       "ZIP code                                                                  981XX   \n",
       "Tags                                                                        NaN   \n",
       "Consumer consent provided?                                     Consent provided   \n",
       "Submitted via                                                               Web   \n",
       "Date sent to company                                                 2016-07-12   \n",
       "Company response to consumer                            Closed with explanation   \n",
       "Timely response?                                                            Yes   \n",
       "Consumer disputed?                                                           No   \n",
       "Complaint ID                                                            1967270   \n",
       "\n",
       "                                                                           3386  \n",
       "Date received                                                        2016-08-21  \n",
       "Product                                                         Debt collection  \n",
       "Sub-product                               Other (i.e. phone, health club, etc.)  \n",
       "Issue                                     Cont'd attempts collect debt not owed  \n",
       "Sub-issue                                                         Debt was paid  \n",
       "Consumer complaint narrative  This complaint is written in reference to a Mi...  \n",
       "Company public response       Company believes it acted appropriately as aut...  \n",
       "Company                                                Midwest Recovery Systems  \n",
       "State                                                                        GA  \n",
       "ZIP code                                                                  303XX  \n",
       "Tags                                                                        NaN  \n",
       "Consumer consent provided?                                     Consent provided  \n",
       "Submitted via                                                               Web  \n",
       "Date sent to company                                                 2016-08-21  \n",
       "Company response to consumer                            Closed with explanation  \n",
       "Timely response?                                                             No  \n",
       "Consumer disputed?                                                           No  \n",
       "Complaint ID                                                            2073899  "
      ]
     },
     "execution_count": 57,
     "metadata": {},
     "output_type": "execute_result"
    }
   ],
   "source": [
    "df.head(15).T"
   ]
  },
  {
   "cell_type": "code",
   "execution_count": 58,
   "metadata": {},
   "outputs": [
    {
     "data": {
      "text/plain": [
       "(768477, 18)"
      ]
     },
     "execution_count": 58,
     "metadata": {},
     "output_type": "execute_result"
    }
   ],
   "source": [
    "df.shape"
   ]
  },
  {
   "cell_type": "code",
   "execution_count": 59,
   "metadata": {},
   "outputs": [
    {
     "name": "stdout",
     "output_type": "stream",
     "text": [
      "<class 'pandas.core.frame.DataFrame'>\n",
      "Int64Index: 768477 entries, 175 to 1650533\n",
      "Data columns (total 18 columns):\n",
      "Date received                   768477 non-null object\n",
      "Product                         768477 non-null object\n",
      "Sub-product                     533312 non-null object\n",
      "Issue                           768477 non-null object\n",
      "Sub-issue                       313065 non-null object\n",
      "Consumer complaint narrative    164066 non-null object\n",
      "Company public response         195709 non-null object\n",
      "Company                         768477 non-null object\n",
      "State                           762826 non-null object\n",
      "ZIP code                        722849 non-null object\n",
      "Tags                            108503 non-null object\n",
      "Consumer consent provided?      297904 non-null object\n",
      "Submitted via                   768477 non-null object\n",
      "Date sent to company            768477 non-null object\n",
      "Company response to consumer    768477 non-null object\n",
      "Timely response?                768477 non-null object\n",
      "Consumer disputed?              768477 non-null object\n",
      "Complaint ID                    768477 non-null int64\n",
      "dtypes: int64(1), object(17)\n",
      "memory usage: 111.4+ MB\n"
     ]
    }
   ],
   "source": [
    "df.info()"
   ]
  },
  {
   "cell_type": "code",
   "execution_count": 60,
   "metadata": {},
   "outputs": [
    {
     "data": {
      "text/plain": [
       "(4289,)"
      ]
     },
     "execution_count": 60,
     "metadata": {},
     "output_type": "execute_result"
    }
   ],
   "source": [
    "df['Company'].value_counts(dropna=False).shape"
   ]
  },
  {
   "cell_type": "code",
   "execution_count": 61,
   "metadata": {},
   "outputs": [
    {
     "data": {
      "text/plain": [
       "No     620099\n",
       "Yes    148378\n",
       "Name: Consumer disputed?, dtype: int64"
      ]
     },
     "execution_count": 61,
     "metadata": {},
     "output_type": "execute_result"
    }
   ],
   "source": [
    "df['Consumer disputed?'].value_counts(dropna=False)"
   ]
  },
  {
   "cell_type": "code",
   "execution_count": 62,
   "metadata": {},
   "outputs": [
    {
     "data": {
      "text/plain": [
       "Mortgage                       226897\n",
       "Debt collection                145815\n",
       "Credit reporting               140432\n",
       "Credit card                     89190\n",
       "Bank account or service         86206\n",
       "Student loan                    32537\n",
       "Consumer Loan                   31604\n",
       "Payday loan                      5543\n",
       "Money transfers                  5354\n",
       "Prepaid card                     3819\n",
       "Other financial service          1059\n",
       "Virtual currency                   18\n",
       "Checking or savings account         3\n",
       "Name: Product, dtype: int64"
      ]
     },
     "execution_count": 62,
     "metadata": {},
     "output_type": "execute_result"
    }
   ],
   "source": [
    "df['Product'].value_counts(dropna=False)"
   ]
  },
  {
   "cell_type": "code",
   "execution_count": 63,
   "metadata": {},
   "outputs": [
    {
     "data": {
      "text/plain": [
       "(61,)"
      ]
     },
     "execution_count": 63,
     "metadata": {},
     "output_type": "execute_result"
    }
   ],
   "source": [
    "df['Sub-issue'].value_counts().shape"
   ]
  },
  {
   "cell_type": "code",
   "execution_count": 64,
   "metadata": {},
   "outputs": [
    {
     "data": {
      "text/plain": [
       "Loan modification,collection,foreclosure    112309\n",
       "Incorrect information on credit report      102686\n",
       "Loan servicing, payments, escrow account     77333\n",
       "Cont'd attempts collect debt not owed        60682\n",
       "Account opening, closing, or management      37961\n",
       "Disclosure verification of debt              30796\n",
       "Communication tactics                        23837\n",
       "Deposits and withdrawals                     22851\n",
       "Dealing with my lender or servicer           17630\n",
       "Application, originator, mortgage broker     17229\n",
       "Credit reporting company's investigation     16883\n",
       "Managing the loan or lease                   15283\n",
       "Billing disputes                             15136\n",
       "Other                                        14779\n",
       "Problems caused by my funds being low        11845\n",
       "False statements or representation           11573\n",
       "Unable to get credit report/credit score     10859\n",
       "Improper contact or sharing of info          10068\n",
       "Problems when you are unable to pay           9385\n",
       "Settlement process and costs                  8940\n",
       "Taking/threatening an illegal action          8859\n",
       "Can't repay my loan                           8726\n",
       "Identity theft / Fraud / Embezzlement         8481\n",
       "Making/receiving payments, sending money      7404\n",
       "Closing/Cancelling account                    6389\n",
       "Using a debit or ATM card                     6145\n",
       "Credit decision / Underwriting                5652\n",
       "Improper use of my credit report              5580\n",
       "APR or interest rate                          5506\n",
       "Credit monitoring or identity protection      4424\n",
       "                                             ...  \n",
       "Applied for loan/did not receive money         345\n",
       "Sale of account                                344\n",
       "Shopping for a line of credit                  302\n",
       "Charged bank acct wrong day or amt             297\n",
       "Customer service/Customer relations            283\n",
       "Wrong amount charged or received               269\n",
       "Cash advance                                   245\n",
       "Fees                                           232\n",
       "Balance transfer fee                           221\n",
       "Overlimit fee                                  215\n",
       "Incorrect/missing disclosures or info          202\n",
       "Adding money                                   202\n",
       "Cash advance fee                               196\n",
       "Convenience checks                             149\n",
       "Unexpected/Other fees                          103\n",
       "Excessive fees                                 101\n",
       "Lender repossessed or sold the vehicle          79\n",
       "Advertising, marketing or disclosures           77\n",
       "Overdraft, savings or rewards features          53\n",
       "Disclosures                                     49\n",
       "Lost or stolen money order                      46\n",
       "Lost or stolen check                            43\n",
       "Incorrect exchange rate                         22\n",
       "Lender damaged or destroyed vehicle              8\n",
       "Lender sold the property                         7\n",
       "Struggling to pay mortgage                       6\n",
       "Trouble during payment process                   3\n",
       "Lender damaged or destroyed property             3\n",
       "Managing an account                              2\n",
       "Opening an account                               1\n",
       "Name: Issue, Length: 99, dtype: int64"
      ]
     },
     "execution_count": 64,
     "metadata": {},
     "output_type": "execute_result"
    }
   ],
   "source": [
    "df['Issue'].value_counts()"
   ]
  },
  {
   "cell_type": "code",
   "execution_count": 65,
   "metadata": {},
   "outputs": [
    {
     "data": {
      "text/plain": [
       "NaN                                                                                                                        572768\n",
       "Company has responded to the consumer and the CFPB and chooses not to provide a public response                             95588\n",
       "Company chooses not to provide a public response                                                                            52473\n",
       "Company believes it acted appropriately as authorized by contract or law                                                    34129\n",
       "Company believes the complaint is the result of a misunderstanding                                                           3142\n",
       "Company disputes the facts presented in the complaint                                                                        2860\n",
       "Company believes complaint caused principally by actions of third party outside the control or direction of the company      2550\n",
       "Company believes complaint is the result of an isolated error                                                                2315\n",
       "Company can't verify or dispute the facts in the complaint                                                                   1544\n",
       "Company believes complaint represents an opportunity for improvement to better serve consumers                               1066\n",
       "Company believes complaint relates to a discontinued policy or procedure                                                       42\n",
       "Name: Company public response, dtype: int64"
      ]
     },
     "execution_count": 65,
     "metadata": {},
     "output_type": "execute_result"
    }
   ],
   "source": [
    "df['Company public response'].value_counts(dropna=False)"
   ]
  },
  {
   "cell_type": "code",
   "execution_count": 66,
   "metadata": {},
   "outputs": [
    {
     "data": {
      "text/plain": [
       "Closed with explanation            577893\n",
       "Closed with non-monetary relief     95428\n",
       "Closed with monetary relief         51381\n",
       "Closed without relief               17868\n",
       "Closed                              17611\n",
       "Closed with relief                   5304\n",
       "Untimely response                    2992\n",
       "Name: Company response to consumer, dtype: int64"
      ]
     },
     "execution_count": 66,
     "metadata": {},
     "output_type": "execute_result"
    }
   ],
   "source": [
    "df['Company response to consumer'].value_counts(dropna=False)"
   ]
  },
  {
   "cell_type": "code",
   "execution_count": 67,
   "metadata": {},
   "outputs": [
    {
     "data": {
      "text/plain": [
       "NaN                              659974\n",
       "Older American                    61484\n",
       "Servicemember                     37994\n",
       "Older American, Servicemember      9025\n",
       "Name: Tags, dtype: int64"
      ]
     },
     "execution_count": 67,
     "metadata": {},
     "output_type": "execute_result"
    }
   ],
   "source": [
    "df['Tags'].value_counts(dropna=False)"
   ]
  },
  {
   "cell_type": "code",
   "execution_count": 68,
   "metadata": {},
   "outputs": [
    {
     "data": {
      "text/plain": [
       "Timestamp('2017-04-22 00:00:00')"
      ]
     },
     "execution_count": 68,
     "metadata": {},
     "output_type": "execute_result"
    }
   ],
   "source": [
    "# df['Date received'].dtype()\n",
    "df['Date received']= pd.to_datetime(df['Date received']) \n",
    "df['Date received'].max()"
   ]
  },
  {
   "cell_type": "code",
   "execution_count": 69,
   "metadata": {},
   "outputs": [
    {
     "data": {
      "text/plain": [
       "Timestamp('2011-12-01 00:00:00')"
      ]
     },
     "execution_count": 69,
     "metadata": {},
     "output_type": "execute_result"
    }
   ],
   "source": [
    "df['Date received'].min()"
   ]
  },
  {
   "cell_type": "code",
   "execution_count": 70,
   "metadata": {},
   "outputs": [
    {
     "data": {
      "text/plain": [
       "Web            523078\n",
       "Referral       133252\n",
       "Phone           52201\n",
       "Postal mail     48674\n",
       "Fax             10924\n",
       "Email             348\n",
       "Name: Submitted via, dtype: int64"
      ]
     },
     "execution_count": 70,
     "metadata": {},
     "output_type": "execute_result"
    }
   ],
   "source": [
    "df['Submitted via'].value_counts(dropna=False)"
   ]
  },
  {
   "cell_type": "code",
   "execution_count": 71,
   "metadata": {},
   "outputs": [
    {
     "data": {
      "text/plain": [
       "Yes    746962\n",
       "No      21515\n",
       "Name: Timely response?, dtype: int64"
      ]
     },
     "execution_count": 71,
     "metadata": {},
     "output_type": "execute_result"
    }
   ],
   "source": [
    "df['Timely response?'].value_counts(dropna=False)"
   ]
  },
  {
   "cell_type": "code",
   "execution_count": 72,
   "metadata": {},
   "outputs": [
    {
     "data": {
      "text/plain": [
       "No     620099\n",
       "Yes    148378\n",
       "Name: Consumer disputed?, dtype: int64"
      ]
     },
     "execution_count": 72,
     "metadata": {},
     "output_type": "execute_result"
    }
   ],
   "source": [
    "df['Consumer disputed?'].value_counts(dropna=False)"
   ]
  },
  {
   "cell_type": "code",
   "execution_count": 73,
   "metadata": {},
   "outputs": [],
   "source": [
    "df[\"Company\"]= df[\"Company\"].astype(str) \n",
    "df[\"Consumer disputed?\"]= df[\"Consumer disputed?\"].astype(str) "
   ]
  },
  {
   "cell_type": "code",
   "execution_count": 74,
   "metadata": {},
   "outputs": [],
   "source": [
    "company_complaint_counts = df['Company'].value_counts()\n",
    "df['company_complaint_counts'] = df['Company'].apply(lambda x: company_complaint_counts[x])"
   ]
  },
  {
   "cell_type": "code",
   "execution_count": 75,
   "metadata": {},
   "outputs": [],
   "source": [
    "company = pd.crosstab(df['Company'], df['Consumer disputed?'])"
   ]
  },
  {
   "cell_type": "code",
   "execution_count": 76,
   "metadata": {},
   "outputs": [],
   "source": [
    "company['dispute_rate'] = company.Yes / (company.Yes + company.No)"
   ]
  },
  {
   "cell_type": "code",
   "execution_count": 77,
   "metadata": {},
   "outputs": [],
   "source": [
    "company['company'] = company.index"
   ]
  },
  {
   "cell_type": "code",
   "execution_count": 78,
   "metadata": {},
   "outputs": [],
   "source": [
    "company['complaint_counts'] = company['company'].apply(lambda x: company_complaint_counts[x])"
   ]
  },
  {
   "cell_type": "code",
   "execution_count": 79,
   "metadata": {},
   "outputs": [],
   "source": [
    "company = company.sort_values('complaint_counts', ascending=False)"
   ]
  },
  {
   "cell_type": "code",
   "execution_count": 80,
   "metadata": {},
   "outputs": [
    {
     "data": {
      "image/png": "[encoded data removed]",
      "text/plain": [
       "<Figure size 1152x432 with 1 Axes>"
      ]
     },
     "metadata": {
      "needs_background": "light"
     },
     "output_type": "display_data"
    }
   ],
   "source": [
    "fig = plt.figure(figsize=(16,6))\n",
    "plt.plot(company['complaint_counts'],company['dispute_rate'],marker='o')\n",
    "plt.xlim([0.0, 56000])\n",
    "plt.ylim([0.0, 0.8])\n",
    "plt.xlabel('company complaint counts')\n",
    "plt.ylabel('complaint dispute rate')\n",
    "plt.title('')\n",
    "font = {'family' : 'normal',\n",
    "        'weight' : 'bold',\n",
    "        'size'   : 22}\n",
    "plt.rcParams.update({'font.size': 18})\n",
    "\n",
    "plt.show()\n",
    "fig.savefig('disputerate_complaintcount.png')"
   ]
  },
  {
   "cell_type": "code",
   "execution_count": 81,
   "metadata": {},
   "outputs": [],
   "source": [
    "temp= pd.crosstab(df['Product'], df['Consumer disputed?'])"
   ]
  },
  {
   "cell_type": "code",
   "execution_count": 82,
   "metadata": {},
   "outputs": [
    {
     "data": {
      "text/plain": [
       "<matplotlib.axes._subplots.AxesSubplot at 0x1c3f0e7a508>"
      ]
     },
     "execution_count": 82,
     "metadata": {},
     "output_type": "execute_result"
    },
    {
     "data": {
      "image/png": "[encoded data removed]",
      "text/plain": [
       "<Figure size 576x432 with 1 Axes>"
      ]
     },
     "metadata": {
      "needs_background": "light"
     },
     "output_type": "display_data"
    }
   ],
   "source": [
    "temp.plot(kind='bar',figsize=(8,6))## The disputed percentages are about same between \n",
    "###Consent and Consent Not \"complaint narrative text\"."
   ]
  },
  {
   "cell_type": "code",
   "execution_count": 83,
   "metadata": {},
   "outputs": [],
   "source": [
    "temp1= pd.crosstab(df['Company response to consumer'], df['Consumer disputed?'])"
   ]
  },
  {
   "cell_type": "code",
   "execution_count": 84,
   "metadata": {},
   "outputs": [
    {
     "data": {
      "text/plain": [
       "<matplotlib.axes._subplots.AxesSubplot at 0x1c3dee87308>"
      ]
     },
     "execution_count": 84,
     "metadata": {},
     "output_type": "execute_result"
    },
    {
     "data": {
      "image/png": "[encoded data removed]",
      "text/plain": [
       "<Figure size 576x432 with 1 Axes>"
      ]
     },
     "metadata": {
      "needs_background": "light"
     },
     "output_type": "display_data"
    }
   ],
   "source": [
    "temp1.plot(kind='bar',figsize=(8,6)) ###Most cases are fall in closed with explaination"
   ]
  },
  {
   "cell_type": "code",
   "execution_count": 85,
   "metadata": {},
   "outputs": [],
   "source": [
    "temp3= pd.crosstab(df['Product'], df['Consumer disputed?'])"
   ]
  },
  {
   "cell_type": "code",
   "execution_count": 86,
   "metadata": {},
   "outputs": [
    {
     "data": {
      "text/plain": [
       "<matplotlib.axes._subplots.AxesSubplot at 0x1c3de53b488>"
      ]
     },
     "execution_count": 86,
     "metadata": {},
     "output_type": "execute_result"
    },
    {
     "data": {
      "image/png": "[encoded data removed]",
      "text/plain": [
       "<Figure size 576x432 with 1 Axes>"
      ]
     },
     "metadata": {
      "needs_background": "light"
     },
     "output_type": "display_data"
    }
   ],
   "source": [
    "temp3.plot(kind='bar',figsize=(8,6))"
   ]
  },
  {
   "cell_type": "code",
   "execution_count": 87,
   "metadata": {},
   "outputs": [
    {
     "data": {
      "text/plain": [
       "(62,)"
      ]
     },
     "execution_count": 87,
     "metadata": {},
     "output_type": "execute_result"
    }
   ],
   "source": [
    "df['State'].value_counts().shape"
   ]
  },
  {
   "cell_type": "code",
   "execution_count": 88,
   "metadata": {},
   "outputs": [],
   "source": [
    "df['Date received']= pd.to_datetime(df['Date received'])\n",
    "df['Date sent to company']= pd.to_datetime(df['Date sent to company']) "
   ]
  },
  {
   "cell_type": "code",
   "execution_count": 89,
   "metadata": {},
   "outputs": [
    {
     "data": {
      "text/plain": [
       "(399563, 19)"
      ]
     },
     "execution_count": 89,
     "metadata": {},
     "output_type": "execute_result"
    }
   ],
   "source": [
    "df[df['Date received']!=df['Date sent to company']].shape"
   ]
  },
  {
   "cell_type": "code",
   "execution_count": 90,
   "metadata": {},
   "outputs": [
    {
     "data": {
      "text/html": [
       "<div>\n",
       "<style scoped>\n",
       "    .dataframe tbody tr th:only-of-type {\n",
       "        vertical-align: middle;\n",
       "    }\n",
       "\n",
       "    .dataframe tbody tr th {\n",
       "        vertical-align: top;\n",
       "    }\n",
       "\n",
       "    .dataframe thead th {\n",
       "        text-align: right;\n",
       "    }\n",
       "</style>\n",
       "<table border=\"1\" class=\"dataframe\">\n",
       "  <thead>\n",
       "    <tr style=\"text-align: right;\">\n",
       "      <th></th>\n",
       "      <th>Date received</th>\n",
       "      <th>Product</th>\n",
       "      <th>Sub-product</th>\n",
       "      <th>Issue</th>\n",
       "      <th>Sub-issue</th>\n",
       "      <th>Consumer complaint narrative</th>\n",
       "      <th>Company public response</th>\n",
       "      <th>Company</th>\n",
       "      <th>State</th>\n",
       "      <th>ZIP code</th>\n",
       "      <th>Tags</th>\n",
       "      <th>Consumer consent provided?</th>\n",
       "      <th>Submitted via</th>\n",
       "      <th>Date sent to company</th>\n",
       "      <th>Company response to consumer</th>\n",
       "      <th>Timely response?</th>\n",
       "      <th>Consumer disputed?</th>\n",
       "      <th>Complaint ID</th>\n",
       "      <th>company_complaint_counts</th>\n",
       "    </tr>\n",
       "  </thead>\n",
       "  <tbody>\n",
       "  </tbody>\n",
       "</table>\n",
       "</div>"
      ],
      "text/plain": [
       "Empty DataFrame\n",
       "Columns: [Date received, Product, Sub-product, Issue, Sub-issue, Consumer complaint narrative, Company public response, Company, State, ZIP code, Tags, Consumer consent provided?, Submitted via, Date sent to company, Company response to consumer, Timely response?, Consumer disputed?, Complaint ID, company_complaint_counts]\n",
       "Index: []"
      ]
     },
     "execution_count": 90,
     "metadata": {},
     "output_type": "execute_result"
    }
   ],
   "source": [
    "df[pd.isnull(df['Issue'])]"
   ]
  },
  {
   "cell_type": "code",
   "execution_count": 91,
   "metadata": {},
   "outputs": [],
   "source": [
    "df['Sub-product'].fillna('Not Provided',inplace=True)\n",
    "df['Sub-issue'].fillna('Not Provided',inplace=True)\n",
    "df['Consumer complaint narrative'].fillna('None or Not Provided',inplace=True)\n",
    "###Combine \"company public missing value\" with \"Company chose not to provide\"\n",
    "df['Company public response'].fillna('Company chooses not to provide',inplace=True) \n",
    "\n",
    "###Combine missing value of \"Issue\" with \"Other\"\n",
    "df['Issue'].fillna('Other',inplace=True) \n",
    "\n",
    "### Replace missing vlaues of 'Tags' with \"'Unknown'\n",
    "df['Tags'].fillna('Unknown',inplace=True) \n",
    "\n",
    "### Replace missing vlaues of 'Submitted via' with \"'other'\n",
    "df['Submitted via'].fillna('Other',inplace=True) \n",
    "\n",
    "###Combine missing value,other,and withdrawn of \"Consumer consent provided? \" \n",
    "###with Consumer consent not provided, since only users's complaints narrative will be provided\n",
    "### with the type of Consumer consent provided\n",
    "df['Consumer consent provided?'].fillna('Consent not provided',inplace=True) \n",
    "df['Consumer consent provided?']=df['Consumer consent provided?'].apply(lambda x: \n",
    "            'Consent not provided' if x=='Other' or x=='Consent withdrawn' else x)"
   ]
  },
  {
   "cell_type": "code",
   "execution_count": 92,
   "metadata": {},
   "outputs": [
    {
     "name": "stderr",
     "output_type": "stream",
     "text": [
      "C:\\Users\\puj83\\anaconda3\\lib\\site-packages\\ipykernel_launcher.py:6: SettingWithCopyWarning: \n",
      "A value is trying to be set on a copy of a slice from a DataFrame\n",
      "\n",
      "See the caveats in the documentation: http://pandas.pydata.org/pandas-docs/stable/indexing.html#indexing-view-versus-copy\n",
      "  \n"
     ]
    }
   ],
   "source": [
    "### Fill missing 'State' info using valide zipcode.\n",
    "from pyzipcode import ZipCodeDatabase\n",
    "zip=ZipCodeDatabase()\n",
    "for i in df[pd.isnull(df['State'])&pd.notnull(df['ZIP code'])].index:\n",
    "    try:\n",
    "        df['State'][i]=str(zip[df['ZIP code'][i]].state)\n",
    "    except:\n",
    "        continue"
   ]
  },
  {
   "cell_type": "code",
   "execution_count": 93,
   "metadata": {},
   "outputs": [
    {
     "data": {
      "text/plain": [
       "(5636, 19)"
      ]
     },
     "execution_count": 93,
     "metadata": {},
     "output_type": "execute_result"
    }
   ],
   "source": [
    "df[pd.isnull(df['State'])&pd.isnull(df['ZIP code'])].shape ###Still 4268 users has no state info"
   ]
  },
  {
   "cell_type": "code",
   "execution_count": 94,
   "metadata": {},
   "outputs": [],
   "source": [
    "df['State'].fillna('Not provided',inplace=True)\n",
    "df['ZIP code'].fillna('Not Provided',inplace=True)"
   ]
  },
  {
   "cell_type": "code",
   "execution_count": 95,
   "metadata": {},
   "outputs": [
    {
     "data": {
      "text/plain": [
       "Consent not provided    604383\n",
       "Consent provided        164094\n",
       "Name: Consumer consent provided?, dtype: int64"
      ]
     },
     "execution_count": 95,
     "metadata": {},
     "output_type": "execute_result"
    }
   ],
   "source": [
    "df['Consumer consent provided?'].value_counts(dropna=False)"
   ]
  },
  {
   "cell_type": "code",
   "execution_count": 96,
   "metadata": {},
   "outputs": [
    {
     "name": "stdout",
     "output_type": "stream",
     "text": [
      "<class 'pandas.core.frame.DataFrame'>\n",
      "Int64Index: 768477 entries, 175 to 1650533\n",
      "Data columns (total 19 columns):\n",
      "Date received                   768477 non-null datetime64[ns]\n",
      "Product                         768477 non-null object\n",
      "Sub-product                     768477 non-null object\n",
      "Issue                           768477 non-null object\n",
      "Sub-issue                       768477 non-null object\n",
      "Consumer complaint narrative    768477 non-null object\n",
      "Company public response         768477 non-null object\n",
      "Company                         768477 non-null object\n",
      "State                           768477 non-null object\n",
      "ZIP code                        768477 non-null object\n",
      "Tags                            768477 non-null object\n",
      "Consumer consent provided?      768477 non-null object\n",
      "Submitted via                   768477 non-null object\n",
      "Date sent to company            768477 non-null datetime64[ns]\n",
      "Company response to consumer    768477 non-null object\n",
      "Timely response?                768477 non-null object\n",
      "Consumer disputed?              768477 non-null object\n",
      "Complaint ID                    768477 non-null int64\n",
      "company_complaint_counts        768477 non-null int64\n",
      "dtypes: datetime64[ns](2), int64(2), object(15)\n",
      "memory usage: 137.3+ MB\n"
     ]
    }
   ],
   "source": [
    "df.info()"
   ]
  },
  {
   "cell_type": "code",
   "execution_count": 97,
   "metadata": {},
   "outputs": [
    {
     "data": {
      "text/html": [
       "<div>\n",
       "<style scoped>\n",
       "    .dataframe tbody tr th:only-of-type {\n",
       "        vertical-align: middle;\n",
       "    }\n",
       "\n",
       "    .dataframe tbody tr th {\n",
       "        vertical-align: top;\n",
       "    }\n",
       "\n",
       "    .dataframe thead th {\n",
       "        text-align: right;\n",
       "    }\n",
       "</style>\n",
       "<table border=\"1\" class=\"dataframe\">\n",
       "  <thead>\n",
       "    <tr style=\"text-align: right;\">\n",
       "      <th></th>\n",
       "      <th>Date received</th>\n",
       "      <th>Product</th>\n",
       "      <th>Sub-product</th>\n",
       "      <th>Issue</th>\n",
       "      <th>Sub-issue</th>\n",
       "      <th>Consumer complaint narrative</th>\n",
       "      <th>Company public response</th>\n",
       "      <th>Company</th>\n",
       "      <th>State</th>\n",
       "      <th>ZIP code</th>\n",
       "      <th>Tags</th>\n",
       "      <th>Consumer consent provided?</th>\n",
       "      <th>Submitted via</th>\n",
       "      <th>Date sent to company</th>\n",
       "      <th>Company response to consumer</th>\n",
       "      <th>Timely response?</th>\n",
       "      <th>Consumer disputed?</th>\n",
       "      <th>Complaint ID</th>\n",
       "      <th>company_complaint_counts</th>\n",
       "    </tr>\n",
       "  </thead>\n",
       "  <tbody>\n",
       "    <tr>\n",
       "      <th>175</th>\n",
       "      <td>2016-07-13</td>\n",
       "      <td>Debt collection</td>\n",
       "      <td>I do not know</td>\n",
       "      <td>Disclosure verification of debt</td>\n",
       "      <td>Right to dispute notice not received</td>\n",
       "      <td>I monitor my credit report, more frequently no...</td>\n",
       "      <td>Company chooses not to provide</td>\n",
       "      <td>Midwest Recovery Systems</td>\n",
       "      <td>VA</td>\n",
       "      <td>Not Provided</td>\n",
       "      <td>Servicemember</td>\n",
       "      <td>Consent provided</td>\n",
       "      <td>Web</td>\n",
       "      <td>2016-07-13</td>\n",
       "      <td>Closed with explanation</td>\n",
       "      <td>No</td>\n",
       "      <td>Yes</td>\n",
       "      <td>2010655</td>\n",
       "      <td>363</td>\n",
       "    </tr>\n",
       "    <tr>\n",
       "      <th>256</th>\n",
       "      <td>2017-04-13</td>\n",
       "      <td>Credit card</td>\n",
       "      <td>Not Provided</td>\n",
       "      <td>Other</td>\n",
       "      <td>Not Provided</td>\n",
       "      <td>I was stupid enough to charge some items at MA...</td>\n",
       "      <td>Company has responded to the consumer and the ...</td>\n",
       "      <td>CITIBANK, N.A.</td>\n",
       "      <td>NC</td>\n",
       "      <td>286XX</td>\n",
       "      <td>Unknown</td>\n",
       "      <td>Consent provided</td>\n",
       "      <td>Web</td>\n",
       "      <td>2017-04-13</td>\n",
       "      <td>Closed with monetary relief</td>\n",
       "      <td>Yes</td>\n",
       "      <td>No</td>\n",
       "      <td>2432795</td>\n",
       "      <td>34768</td>\n",
       "    </tr>\n",
       "    <tr>\n",
       "      <th>289</th>\n",
       "      <td>2016-06-29</td>\n",
       "      <td>Debt collection</td>\n",
       "      <td>Credit card</td>\n",
       "      <td>Taking/threatening an illegal action</td>\n",
       "      <td>Threatened to sue on too old debt</td>\n",
       "      <td>XXXX/XXXX/XXXX I received a letter from ARA, I...</td>\n",
       "      <td>Company chooses not to provide</td>\n",
       "      <td>Financial Credit Service, Inc.</td>\n",
       "      <td>TX</td>\n",
       "      <td>Not Provided</td>\n",
       "      <td>Unknown</td>\n",
       "      <td>Consent provided</td>\n",
       "      <td>Web</td>\n",
       "      <td>2016-06-30</td>\n",
       "      <td>Closed with explanation</td>\n",
       "      <td>No</td>\n",
       "      <td>No</td>\n",
       "      <td>1991793</td>\n",
       "      <td>423</td>\n",
       "    </tr>\n",
       "    <tr>\n",
       "      <th>407</th>\n",
       "      <td>2015-05-20</td>\n",
       "      <td>Debt collection</td>\n",
       "      <td>Payday loan</td>\n",
       "      <td>Communication tactics</td>\n",
       "      <td>Called after sent written cease of comm</td>\n",
       "      <td>I had my vehicle repoed &amp; I had to use XXXX pa...</td>\n",
       "      <td>Company believes complaint represents an oppor...</td>\n",
       "      <td>Chek Cash, Inc.</td>\n",
       "      <td>TX</td>\n",
       "      <td>770XX</td>\n",
       "      <td>Unknown</td>\n",
       "      <td>Consent provided</td>\n",
       "      <td>Web</td>\n",
       "      <td>2015-07-02</td>\n",
       "      <td>Closed with explanation</td>\n",
       "      <td>Yes</td>\n",
       "      <td>No</td>\n",
       "      <td>1384427</td>\n",
       "      <td>3</td>\n",
       "    </tr>\n",
       "    <tr>\n",
       "      <th>556</th>\n",
       "      <td>2016-01-15</td>\n",
       "      <td>Bank account or service</td>\n",
       "      <td>Savings account</td>\n",
       "      <td>Deposits and withdrawals</td>\n",
       "      <td>Not Provided</td>\n",
       "      <td>None or Not Provided</td>\n",
       "      <td>Company chooses not to provide</td>\n",
       "      <td>FIRSTBANK PUERTO RICO</td>\n",
       "      <td>PR</td>\n",
       "      <td>00682</td>\n",
       "      <td>Unknown</td>\n",
       "      <td>Consent not provided</td>\n",
       "      <td>Web</td>\n",
       "      <td>2016-01-21</td>\n",
       "      <td>Closed with explanation</td>\n",
       "      <td>Yes</td>\n",
       "      <td>No</td>\n",
       "      <td>1744283</td>\n",
       "      <td>209</td>\n",
       "    </tr>\n",
       "  </tbody>\n",
       "</table>\n",
       "</div>"
      ],
      "text/plain": [
       "    Date received                  Product      Sub-product  \\\n",
       "175    2016-07-13          Debt collection    I do not know   \n",
       "256    2017-04-13              Credit card     Not Provided   \n",
       "289    2016-06-29          Debt collection      Credit card   \n",
       "407    2015-05-20          Debt collection      Payday loan   \n",
       "556    2016-01-15  Bank account or service  Savings account   \n",
       "\n",
       "                                    Issue  \\\n",
       "175       Disclosure verification of debt   \n",
       "256                                 Other   \n",
       "289  Taking/threatening an illegal action   \n",
       "407                 Communication tactics   \n",
       "556              Deposits and withdrawals   \n",
       "\n",
       "                                   Sub-issue  \\\n",
       "175     Right to dispute notice not received   \n",
       "256                             Not Provided   \n",
       "289        Threatened to sue on too old debt   \n",
       "407  Called after sent written cease of comm   \n",
       "556                             Not Provided   \n",
       "\n",
       "                          Consumer complaint narrative  \\\n",
       "175  I monitor my credit report, more frequently no...   \n",
       "256  I was stupid enough to charge some items at MA...   \n",
       "289  XXXX/XXXX/XXXX I received a letter from ARA, I...   \n",
       "407  I had my vehicle repoed & I had to use XXXX pa...   \n",
       "556                               None or Not Provided   \n",
       "\n",
       "                               Company public response  \\\n",
       "175                     Company chooses not to provide   \n",
       "256  Company has responded to the consumer and the ...   \n",
       "289                     Company chooses not to provide   \n",
       "407  Company believes complaint represents an oppor...   \n",
       "556                     Company chooses not to provide   \n",
       "\n",
       "                            Company State      ZIP code           Tags  \\\n",
       "175        Midwest Recovery Systems    VA  Not Provided  Servicemember   \n",
       "256                  CITIBANK, N.A.    NC         286XX        Unknown   \n",
       "289  Financial Credit Service, Inc.    TX  Not Provided        Unknown   \n",
       "407                 Chek Cash, Inc.    TX         770XX        Unknown   \n",
       "556           FIRSTBANK PUERTO RICO    PR         00682        Unknown   \n",
       "\n",
       "    Consumer consent provided? Submitted via Date sent to company  \\\n",
       "175           Consent provided           Web           2016-07-13   \n",
       "256           Consent provided           Web           2017-04-13   \n",
       "289           Consent provided           Web           2016-06-30   \n",
       "407           Consent provided           Web           2015-07-02   \n",
       "556       Consent not provided           Web           2016-01-21   \n",
       "\n",
       "    Company response to consumer Timely response? Consumer disputed?  \\\n",
       "175      Closed with explanation               No                Yes   \n",
       "256  Closed with monetary relief              Yes                 No   \n",
       "289      Closed with explanation               No                 No   \n",
       "407      Closed with explanation              Yes                 No   \n",
       "556      Closed with explanation              Yes                 No   \n",
       "\n",
       "     Complaint ID  company_complaint_counts  \n",
       "175       2010655                       363  \n",
       "256       2432795                     34768  \n",
       "289       1991793                       423  \n",
       "407       1384427                         3  \n",
       "556       1744283                       209  "
      ]
     },
     "execution_count": 97,
     "metadata": {},
     "output_type": "execute_result"
    }
   ],
   "source": [
    "df.head()"
   ]
  },
  {
   "cell_type": "code",
   "execution_count": 98,
   "metadata": {},
   "outputs": [
    {
     "data": {
      "text/plain": [
       "<pandas.core.groupby.groupby.SeriesGroupBy object at 0x000001C3D3490D88>"
      ]
     },
     "execution_count": 98,
     "metadata": {},
     "output_type": "execute_result"
    }
   ],
   "source": [
    "df.groupby(df['Consumer disputed?'])['Date received']"
   ]
  },
  {
   "cell_type": "code",
   "execution_count": 99,
   "metadata": {},
   "outputs": [],
   "source": [
    "temp5 = pd.crosstab(df['Consumer consent provided?'], df['Consumer disputed?'])"
   ]
  },
  {
   "cell_type": "code",
   "execution_count": 100,
   "metadata": {},
   "outputs": [
    {
     "data": {
      "text/plain": [
       "Consent not provided    604383\n",
       "Consent provided        164094\n",
       "Name: Consumer consent provided?, dtype: int64"
      ]
     },
     "execution_count": 100,
     "metadata": {},
     "output_type": "execute_result"
    }
   ],
   "source": [
    "df['Consumer consent provided?'].value_counts()"
   ]
  },
  {
   "cell_type": "code",
   "execution_count": 101,
   "metadata": {},
   "outputs": [],
   "source": [
    "replace={'Yes':True, 'No':False}"
   ]
  },
  {
   "cell_type": "code",
   "execution_count": 102,
   "metadata": {},
   "outputs": [],
   "source": [
    "df['Consumer disputed?']= df['Consumer disputed?'].apply(lambda x: replace[x])"
   ]
  },
  {
   "cell_type": "code",
   "execution_count": 103,
   "metadata": {},
   "outputs": [],
   "source": [
    "#Create a dataframe including all the features in the model\n",
    "df_model = DataFrame()"
   ]
  },
  {
   "cell_type": "code",
   "execution_count": 104,
   "metadata": {},
   "outputs": [],
   "source": [
    "#Create 'consent provided' Boolean feature\n",
    "replace1={'Consent provided':True, 'Consent not provided':False}\n",
    "df_model['Consumer consent provided?']= df['Consumer consent provided?'].apply(lambda x: replace1[x])"
   ]
  },
  {
   "cell_type": "code",
   "execution_count": 105,
   "metadata": {},
   "outputs": [],
   "source": [
    "#Create the number of compliants of each company as a feature\n",
    "company_complaitns_counts = df['Company'].value_counts()\n",
    "df_model['company_complaint_counts'] = df['Company'].apply(lambda x: company_complaitns_counts[x])"
   ]
  },
  {
   "cell_type": "code",
   "execution_count": 106,
   "metadata": {},
   "outputs": [],
   "source": [
    "feature_for_model=['Product', 'Sub-product','Issue','Sub-issue', 'Company public response','Tags',\n",
    "                'Company response to consumer', 'State']\n",
    "for name in feature_for_model:\n",
    "    repl={}\n",
    "    i=0\n",
    "    for value in df[name].unique():\n",
    "        repl[value] = i\n",
    "        i+=1\n",
    "       \n",
    "    df[name] = df[name].apply(lambda x: repl[x])\n",
    "    df_model[name] = df[name].astype('category')"
   ]
  },
  {
   "cell_type": "code",
   "execution_count": 107,
   "metadata": {},
   "outputs": [],
   "source": [
    "##process time refers to days between the date CFPB received complaitns and the date \n",
    "##when complaints were sent to company on behal of comsume\n",
    "df['Process time']=(df['Date sent to company']-df['Date received']).astype('timedelta64[D]').astype(int)\n",
    "df_model=pd.concat([df_model,df['Process time']],axis=1)"
   ]
  },
  {
   "cell_type": "code",
   "execution_count": 108,
   "metadata": {},
   "outputs": [],
   "source": [
    "#Create 'Timely response\" boolean feature\n",
    "df['Timely response?'] = df['Timely response?'].apply(lambda x: replace[x])\n",
    "df_model=pd.concat([df_model,df['Timely response?']],axis=1)"
   ]
  },
  {
   "cell_type": "code",
   "execution_count": 109,
   "metadata": {},
   "outputs": [],
   "source": [
    "##Create features about complaint submitted time\n",
    "df_model['Date_received_year'] = df['Date received'].apply(lambda x: x.year)\n",
    "df_model['Date_received_month'] = df['Date received'].apply(lambda x: x.month)\n",
    "df_model['Date_received_day'] = df['Date received'].apply(lambda x: x.day)"
   ]
  },
  {
   "cell_type": "code",
   "execution_count": 110,
   "metadata": {},
   "outputs": [
    {
     "data": {
      "text/html": [
       "<div>\n",
       "<style scoped>\n",
       "    .dataframe tbody tr th:only-of-type {\n",
       "        vertical-align: middle;\n",
       "    }\n",
       "\n",
       "    .dataframe tbody tr th {\n",
       "        vertical-align: top;\n",
       "    }\n",
       "\n",
       "    .dataframe thead th {\n",
       "        text-align: right;\n",
       "    }\n",
       "</style>\n",
       "<table border=\"1\" class=\"dataframe\">\n",
       "  <thead>\n",
       "    <tr style=\"text-align: right;\">\n",
       "      <th></th>\n",
       "      <th>175</th>\n",
       "      <th>256</th>\n",
       "      <th>289</th>\n",
       "      <th>407</th>\n",
       "      <th>556</th>\n",
       "    </tr>\n",
       "  </thead>\n",
       "  <tbody>\n",
       "    <tr>\n",
       "      <th>Consumer consent provided?</th>\n",
       "      <td>True</td>\n",
       "      <td>True</td>\n",
       "      <td>True</td>\n",
       "      <td>True</td>\n",
       "      <td>False</td>\n",
       "    </tr>\n",
       "    <tr>\n",
       "      <th>company_complaint_counts</th>\n",
       "      <td>363</td>\n",
       "      <td>34768</td>\n",
       "      <td>423</td>\n",
       "      <td>3</td>\n",
       "      <td>209</td>\n",
       "    </tr>\n",
       "    <tr>\n",
       "      <th>Product</th>\n",
       "      <td>0</td>\n",
       "      <td>1</td>\n",
       "      <td>0</td>\n",
       "      <td>0</td>\n",
       "      <td>2</td>\n",
       "    </tr>\n",
       "    <tr>\n",
       "      <th>Sub-product</th>\n",
       "      <td>0</td>\n",
       "      <td>1</td>\n",
       "      <td>2</td>\n",
       "      <td>3</td>\n",
       "      <td>4</td>\n",
       "    </tr>\n",
       "    <tr>\n",
       "      <th>Issue</th>\n",
       "      <td>0</td>\n",
       "      <td>1</td>\n",
       "      <td>2</td>\n",
       "      <td>3</td>\n",
       "      <td>4</td>\n",
       "    </tr>\n",
       "    <tr>\n",
       "      <th>Sub-issue</th>\n",
       "      <td>0</td>\n",
       "      <td>1</td>\n",
       "      <td>2</td>\n",
       "      <td>3</td>\n",
       "      <td>1</td>\n",
       "    </tr>\n",
       "    <tr>\n",
       "      <th>Company public response</th>\n",
       "      <td>0</td>\n",
       "      <td>1</td>\n",
       "      <td>0</td>\n",
       "      <td>2</td>\n",
       "      <td>0</td>\n",
       "    </tr>\n",
       "    <tr>\n",
       "      <th>Tags</th>\n",
       "      <td>0</td>\n",
       "      <td>1</td>\n",
       "      <td>1</td>\n",
       "      <td>1</td>\n",
       "      <td>1</td>\n",
       "    </tr>\n",
       "    <tr>\n",
       "      <th>Company response to consumer</th>\n",
       "      <td>0</td>\n",
       "      <td>1</td>\n",
       "      <td>0</td>\n",
       "      <td>0</td>\n",
       "      <td>0</td>\n",
       "    </tr>\n",
       "    <tr>\n",
       "      <th>State</th>\n",
       "      <td>0</td>\n",
       "      <td>1</td>\n",
       "      <td>2</td>\n",
       "      <td>2</td>\n",
       "      <td>3</td>\n",
       "    </tr>\n",
       "    <tr>\n",
       "      <th>Process time</th>\n",
       "      <td>0</td>\n",
       "      <td>0</td>\n",
       "      <td>1</td>\n",
       "      <td>43</td>\n",
       "      <td>6</td>\n",
       "    </tr>\n",
       "    <tr>\n",
       "      <th>Timely response?</th>\n",
       "      <td>False</td>\n",
       "      <td>True</td>\n",
       "      <td>False</td>\n",
       "      <td>True</td>\n",
       "      <td>True</td>\n",
       "    </tr>\n",
       "    <tr>\n",
       "      <th>Date_received_year</th>\n",
       "      <td>2016</td>\n",
       "      <td>2017</td>\n",
       "      <td>2016</td>\n",
       "      <td>2015</td>\n",
       "      <td>2016</td>\n",
       "    </tr>\n",
       "    <tr>\n",
       "      <th>Date_received_month</th>\n",
       "      <td>7</td>\n",
       "      <td>4</td>\n",
       "      <td>6</td>\n",
       "      <td>5</td>\n",
       "      <td>1</td>\n",
       "    </tr>\n",
       "    <tr>\n",
       "      <th>Date_received_day</th>\n",
       "      <td>13</td>\n",
       "      <td>13</td>\n",
       "      <td>29</td>\n",
       "      <td>20</td>\n",
       "      <td>15</td>\n",
       "    </tr>\n",
       "  </tbody>\n",
       "</table>\n",
       "</div>"
      ],
      "text/plain": [
       "                                175    256    289   407    556\n",
       "Consumer consent provided?     True   True   True  True  False\n",
       "company_complaint_counts        363  34768    423     3    209\n",
       "Product                           0      1      0     0      2\n",
       "Sub-product                       0      1      2     3      4\n",
       "Issue                             0      1      2     3      4\n",
       "Sub-issue                         0      1      2     3      1\n",
       "Company public response           0      1      0     2      0\n",
       "Tags                              0      1      1     1      1\n",
       "Company response to consumer      0      1      0     0      0\n",
       "State                             0      1      2     2      3\n",
       "Process time                      0      0      1    43      6\n",
       "Timely response?              False   True  False  True   True\n",
       "Date_received_year             2016   2017   2016  2015   2016\n",
       "Date_received_month               7      4      6     5      1\n",
       "Date_received_day                13     13     29    20     15"
      ]
     },
     "execution_count": 110,
     "metadata": {},
     "output_type": "execute_result"
    }
   ],
   "source": [
    "df_model.head().T"
   ]
  },
  {
   "cell_type": "code",
   "execution_count": 111,
   "metadata": {},
   "outputs": [],
   "source": [
    "from sklearn.naive_bayes import MultinomialNB\n",
    "from sklearn.feature_extraction.text import TfidfVectorizer\n",
    "from sklearn.model_selection import train_test_split\n",
    "import sklearn.metrics as skm\n",
    "from sklearn.pipeline import Pipeline\n",
    "from scipy import interp\n",
    "from nltk import word_tokenize\n",
    "from nltk.stem.snowball import SnowballStemmer\n",
    "from sklearn.linear_model import LogisticRegression\n",
    "from sklearn.model_selection import GridSearchCV\n",
    "from sklearn.feature_extraction.text import CountVectorizer\n",
    "from sklearn.feature_extraction.text import TfidfTransformer\n",
    "from sklearn.linear_model import SGDClassifier\n",
    "from sklearn.multiclass import OneVsRestClassifier\n",
    "from sklearn.ensemble import RandomForestClassifier"
   ]
  },
  {
   "cell_type": "code",
   "execution_count": 112,
   "metadata": {},
   "outputs": [],
   "source": [
    "X = df_model.values\n",
    "y = df['Consumer disputed?'].values"
   ]
  },
  {
   "cell_type": "code",
   "execution_count": 126,
   "metadata": {},
   "outputs": [],
   "source": [
    "X_train, X_test, y_train, y_test = train_test_split(X, y, test_size=0.20, random_state=67)"
   ]
  },
  {
   "cell_type": "code",
   "execution_count": 127,
   "metadata": {},
   "outputs": [
    {
     "data": {
      "text/plain": [
       "array([[False, 53693, 2, ..., 2016, 7, 29],\n",
       "       [False, 227, 4, ..., 2012, 8, 20],\n",
       "       [False, 8666, 4, ..., 2015, 12, 3],\n",
       "       ...,\n",
       "       [False, 45622, 6, ..., 2014, 11, 4],\n",
       "       [True, 42630, 2, ..., 2016, 7, 1],\n",
       "       [False, 2052, 0, ..., 2017, 2, 6]], dtype=object)"
      ]
     },
     "execution_count": 127,
     "metadata": {},
     "output_type": "execute_result"
    }
   ],
   "source": [
    "X_train"
   ]
  },
  {
   "cell_type": "code",
   "execution_count": 128,
   "metadata": {},
   "outputs": [
    {
     "data": {
      "text/plain": [
       "array([[False, 5946, 3, ..., 2012, 5, 2],\n",
       "       [True, 65992, 4, ..., 2016, 6, 8],\n",
       "       [False, 40006, 6, ..., 2016, 8, 26],\n",
       "       ...,\n",
       "       [False, 13020, 1, ..., 2016, 5, 31],\n",
       "       [False, 16222, 4, ..., 2014, 5, 12],\n",
       "       [False, 5946, 2, ..., 2012, 12, 7]], dtype=object)"
      ]
     },
     "execution_count": 128,
     "metadata": {},
     "output_type": "execute_result"
    }
   ],
   "source": [
    "X_test"
   ]
  },
  {
   "cell_type": "code",
   "execution_count": 129,
   "metadata": {},
   "outputs": [
    {
     "data": {
      "text/plain": [
       "array([False, False, False, ..., False, False, False])"
      ]
     },
     "execution_count": 129,
     "metadata": {},
     "output_type": "execute_result"
    }
   ],
   "source": [
    "y_train"
   ]
  },
  {
   "cell_type": "code",
   "execution_count": 130,
   "metadata": {},
   "outputs": [
    {
     "data": {
      "text/plain": [
       "array([ True, False, False, ..., False,  True, False])"
      ]
     },
     "execution_count": 130,
     "metadata": {},
     "output_type": "execute_result"
    }
   ],
   "source": [
    "y_test"
   ]
  },
  {
   "cell_type": "code",
   "execution_count": 131,
   "metadata": {},
   "outputs": [],
   "source": [
    "from sklearn.preprocessing import StandardScaler\n",
    "scaler = StandardScaler()\n",
    "scaler.fit(X_train)  \n",
    "X_train = scaler.transform(X_train)\n",
    "X_test = scaler.transform(X_test)"
   ]
  },
  {
   "cell_type": "code",
   "execution_count": 134,
   "metadata": {},
   "outputs": [],
   "source": [
    "def roc_curve(probabilities, labels):\n",
    "    '''\n",
    "    INPUT: numpy array, numpy array\n",
    "    OUTPUT: list, list, list\n",
    "\n",
    "    Take a numpy array of the predicted probabilities and a numpy array of the\n",
    "    true labels.\n",
    "    Return the True Positive Rates, False Positive Rates and Thresholds for the\n",
    "    ROC curve.\n",
    "    '''\n",
    "\n",
    "    thresholds = np.sort(probabilities)\n",
    "\n",
    "    tprs = []\n",
    "    fprs = []\n",
    "\n",
    "    num_positive_cases = sum(labels)\n",
    "    num_negative_cases = len(labels) - num_positive_cases\n",
    "\n",
    "    for threshold in thresholds:\n",
    "        # With this threshold, give the prediction of each instance\n",
    "        predicted_positive = probabilities >= threshold\n",
    "        # Calculate the number of correctly predicted positive cases\n",
    "        true_positives = np.sum(predicted_positive * labels)\n",
    "        # Calculate the number of incorrectly predicted positive cases\n",
    "        false_positives = np.sum(predicted_positive) - true_positives\n",
    "        # Calculate the True Positive Rate\n",
    "        tpr = true_positives / float(num_positive_cases)\n",
    "        # Calculate the False Positive Rate\n",
    "        fpr = false_positives / float(num_negative_cases)\n",
    "\n",
    "        fprs.append(fpr)\n",
    "        tprs.append(tpr)\n",
    "    \n",
    "    return tprs, fprs, thresholds.tolist()\n",
    "\n",
    "def plot_roc(v_probs, y_test, title, xlabel, ylabel):\n",
    "    # ROC\n",
    "    fig = plt.figure(figsize = (8,6))\n",
    "    tpr, fpr, thresholds = roc_curve(v_probs, y_test)\n",
    "    \n",
    "    import sklearn.metrics as skm\n",
    "    auc = skm.roc_auc_score(y_test, v_probs)\n",
    "\n",
    "    plt.hold(True)\n",
    "    plt.plot(fpr, tpr)\n",
    "\n",
    "    # 45 degree line\n",
    "    xx = np.linspace(0, 1.0, 20)\n",
    "    plt.plot(xx, xx, 'k--')\n",
    "\n",
    "    plt.xlabel(xlabel)\n",
    "    plt.ylabel(ylabel)\n",
    "    plt.title(title)\n",
    "\n",
    "    plt.show()\n",
    "    fig.savefig(title+'.png')"
   ]
  },
  {
   "cell_type": "code",
   "execution_count": 143,
   "metadata": {},
   "outputs": [
    {
     "data": {
      "text/plain": [
       "RandomForestClassifier(bootstrap=True, ccp_alpha=0.0, class_weight='balanced',\n",
       "                       criterion='gini', max_depth=None, max_features=1,\n",
       "                       max_leaf_nodes=None, max_samples=None,\n",
       "                       min_impurity_decrease=0.0, min_impurity_split=None,\n",
       "                       min_samples_leaf=1, min_samples_split=2,\n",
       "                       min_weight_fraction_leaf=0.0, n_estimators=10, n_jobs=-1,\n",
       "                       oob_score=False, random_state=None, verbose=0,\n",
       "                       warm_start=False)"
      ]
     },
     "execution_count": 143,
     "metadata": {},
     "output_type": "execute_result"
    }
   ],
   "source": [
    "## Random Forest Classifier\n",
    "rfc = RandomForestClassifier(n_estimators=10, n_jobs=-1, class_weight='balanced', max_features=1)\n",
    "rfc.fit(X_train, y_train)"
   ]
  },
  {
   "cell_type": "code",
   "execution_count": 144,
   "metadata": {},
   "outputs": [
    {
     "data": {
      "text/plain": [
       "0.7956290339371226"
      ]
     },
     "execution_count": 144,
     "metadata": {},
     "output_type": "execute_result"
    }
   ],
   "source": [
    "rfc.score(X_test, y_test)"
   ]
  },
  {
   "cell_type": "code",
   "execution_count": 145,
   "metadata": {},
   "outputs": [
    {
     "data": {
      "text/html": [
       "<div>\n",
       "<style scoped>\n",
       "    .dataframe tbody tr th:only-of-type {\n",
       "        vertical-align: middle;\n",
       "    }\n",
       "\n",
       "    .dataframe tbody tr th {\n",
       "        vertical-align: top;\n",
       "    }\n",
       "\n",
       "    .dataframe thead th {\n",
       "        text-align: right;\n",
       "    }\n",
       "</style>\n",
       "<table border=\"1\" class=\"dataframe\">\n",
       "  <thead>\n",
       "    <tr style=\"text-align: right;\">\n",
       "      <th>col_0</th>\n",
       "      <th>False</th>\n",
       "      <th>True</th>\n",
       "    </tr>\n",
       "    <tr>\n",
       "      <th>row_0</th>\n",
       "      <th></th>\n",
       "      <th></th>\n",
       "    </tr>\n",
       "  </thead>\n",
       "  <tbody>\n",
       "    <tr>\n",
       "      <th>False</th>\n",
       "      <td>120503</td>\n",
       "      <td>3834</td>\n",
       "    </tr>\n",
       "    <tr>\n",
       "      <th>True</th>\n",
       "      <td>27577</td>\n",
       "      <td>1782</td>\n",
       "    </tr>\n",
       "  </tbody>\n",
       "</table>\n",
       "</div>"
      ],
      "text/plain": [
       "col_0   False  True \n",
       "row_0               \n",
       "False  120503   3834\n",
       "True    27577   1782"
      ]
     },
     "execution_count": 145,
     "metadata": {},
     "output_type": "execute_result"
    }
   ],
   "source": [
    "pd.crosstab(y_test, rfc.predict(X_test))"
   ]
  },
  {
   "cell_type": "code",
   "execution_count": 146,
   "metadata": {},
   "outputs": [
    {
     "data": {
      "text/plain": [
       "0.5855751872953389"
      ]
     },
     "execution_count": 146,
     "metadata": {},
     "output_type": "execute_result"
    }
   ],
   "source": [
    "skm.roc_auc_score(y_test, rfc.predict_proba(X_test)[:, 1])"
   ]
  },
  {
   "cell_type": "code",
   "execution_count": 147,
   "metadata": {},
   "outputs": [
    {
     "data": {
      "text/plain": [
       "0.06069689022105657"
      ]
     },
     "execution_count": 147,
     "metadata": {},
     "output_type": "execute_result"
    }
   ],
   "source": [
    "skm.recall_score(y_test, rfc.predict(X_test))"
   ]
  },
  {
   "cell_type": "code",
   "execution_count": 148,
   "metadata": {},
   "outputs": [
    {
     "name": "stdout",
     "output_type": "stream",
     "text": [
      "[[120503   3834]\n",
      " [ 27577   1782]]\n"
     ]
    },
    {
     "data": {
      "image/png": "[encoded data removed]",
      "text/plain": [
       "<Figure size 288x288 with 2 Axes>"
      ]
     },
     "metadata": {
      "needs_background": "light"
     },
     "output_type": "display_data"
    }
   ],
   "source": [
    "plot_confusion_matrix(rfc, X_test, y_test)"
   ]
  },
  {
   "cell_type": "code",
   "execution_count": 149,
   "metadata": {},
   "outputs": [],
   "source": [
    "def plot_importance(clf, X, max_features=10):\n",
    "    '''Plot feature importance'''\n",
    "    feature_importance = clf.feature_importances_\n",
    "    # make importances relative to max importance\n",
    "    feature_importance = 100.0 * (feature_importance / feature_importance.max())\n",
    "    sorted_idx = np.argsort(feature_importance)\n",
    "    pos = np.arange(sorted_idx.shape[0]) + .5\n",
    "    \n",
    "    # Show only top features\n",
    "    pos = pos[-max_features:]\n",
    "    feature_importance = (feature_importance[sorted_idx])[-max_features:]\n",
    "    feature_names = (X.columns[sorted_idx])[-max_features:]\n",
    "    \n",
    "    plt.barh(pos, feature_importance, align='center')\n",
    "    plt.yticks(pos, feature_names)\n",
    "    plt.xlabel('Relative Importance')\n",
    "    plt.title('Variable Importance')"
   ]
  },
  {
   "cell_type": "code",
   "execution_count": 150,
   "metadata": {},
   "outputs": [
    {
     "data": {
      "image/png": "[encoded data removed]",
      "text/plain": [
       "<Figure size 432x288 with 1 Axes>"
      ]
     },
     "metadata": {
      "needs_background": "light"
     },
     "output_type": "display_data"
    }
   ],
   "source": [
    "plot_importance(rfc, df_model, max_features=10)"
   ]
  },
  {
   "cell_type": "code",
   "execution_count": 151,
   "metadata": {},
   "outputs": [],
   "source": [
    "#Create features about 'Consumenr complaint narrative'\n",
    "\n",
    "from string import punctuation, ascii_letters\n",
    "\n",
    "def process_text_field(text):\n",
    "    '''\n",
    "    text: string\n",
    "    OUTPUT: int, int, int, float (length, word count, uppercase_count_rate, punctuation_rate)\n",
    "    '''\n",
    "    length = len(text)\n",
    "    word_count = 0\n",
    "    last_char = False\n",
    "    for c in text:\n",
    "        if c in ascii_letters:\n",
    "            if last_char==False:\n",
    "                word_count += 1\n",
    "                last_char=True\n",
    "        else:\n",
    "            last_char = False\n",
    "    \n",
    "    punct_count = 0\n",
    "    uppercase_count = 0\n",
    "    for c in text:\n",
    "        if c in punctuation:\n",
    "            punct_count += 1\n",
    "        if c.isupper():\n",
    "            uppercase_count += 1\n",
    "    punctuation_rate = punct_count / float(length+1)\n",
    "    uppercase_count_rate = uppercase_count / float(length+1)\n",
    "    \n",
    "    return length, word_count, uppercase_count_rate, punctuation_rate\n",
    "\n",
    "def process_text_column(df, fieldname):\n",
    "    length_list = []\n",
    "    word_count_list = []\n",
    "    punctuation_rate_list = []\n",
    "    uppercase_count_rate_list=[]\n",
    "    for row_ix in df.index:\n",
    "        length, word_count, uppercase_count_rate, punctuation_rate = process_text_field(df[fieldname][row_ix])\n",
    "        length_list.append(length)\n",
    "        word_count_list.append(word_count)\n",
    "        uppercase_count_rate_list.append(uppercase_count_rate)\n",
    "        punctuation_rate_list.append(punctuation_rate)\n",
    "    return length_list, word_count_list, uppercase_count_rate_list, punctuation_rate_list"
   ]
  },
  {
   "cell_type": "code",
   "execution_count": 152,
   "metadata": {},
   "outputs": [],
   "source": [
    "stemmer = SnowballStemmer(\"english\")\n",
    "\n",
    "def stem_tokens(tokens, stemmer):\n",
    "    stemmed=[]\n",
    "    for item in tokens:\n",
    "        stemmed.append(stemmer.stem(item))\n",
    "    return stemmed\n",
    "\n",
    "def tokenize(text):\n",
    "    tokens = word_tokenize(text)\n",
    "    stems = stem_tokens(tokens, stemmer)\n",
    "    return stems"
   ]
  },
  {
   "cell_type": "code",
   "execution_count": 153,
   "metadata": {},
   "outputs": [],
   "source": [
    "df=df[df['Consumer complaint narrative']!= 'None or Not Provided']"
   ]
  },
  {
   "cell_type": "code",
   "execution_count": 155,
   "metadata": {},
   "outputs": [],
   "source": [
    "X_word = df['Consumer complaint narrative'].values\n",
    "y = df['Consumer disputed?'].values"
   ]
  },
  {
   "cell_type": "code",
   "execution_count": 156,
   "metadata": {},
   "outputs": [
    {
     "data": {
      "text/plain": [
       "(164066,)"
      ]
     },
     "execution_count": 156,
     "metadata": {},
     "output_type": "execute_result"
    }
   ],
   "source": [
    "X_word.shape"
   ]
  },
  {
   "cell_type": "code",
   "execution_count": 157,
   "metadata": {},
   "outputs": [],
   "source": [
    "X_train_word, X_test_word, y_train, y_test = train_test_split(X_word, y, test_size=0.20, random_state=67)\n",
    "vectorizer = TfidfVectorizer(stop_words='english',lowercase=False, min_df=0.001, max_df = 0.2,\n",
    "                             )\n",
    "words_matrix_train = vectorizer.fit_transform(X_train_word)\n",
    "words_matrix_test = vectorizer.transform(X_test_word)\n",
    "words_matrix = vectorizer.transform(X_word)"
   ]
  },
  {
   "cell_type": "code",
   "execution_count": 158,
   "metadata": {},
   "outputs": [
    {
     "data": {
      "text/plain": [
       "(164066, 5108)"
      ]
     },
     "execution_count": 158,
     "metadata": {},
     "output_type": "execute_result"
    }
   ],
   "source": [
    "words_matrix.shape"
   ]
  },
  {
   "cell_type": "code",
   "execution_count": 159,
   "metadata": {},
   "outputs": [
    {
     "data": {
      "text/plain": [
       "0.6121915943963939"
      ]
     },
     "execution_count": 159,
     "metadata": {},
     "output_type": "execute_result"
    }
   ],
   "source": [
    "#MultinomialNB classifier directly using tfidf text\n",
    "\n",
    "model = MultinomialNB()\n",
    "model.fit(words_matrix_train, y_train)\n",
    "\n",
    "##Model evaluation via 'Consumer complaint narrative' only\n",
    "\n",
    "model.score(words_matrix_test,y_test)\n",
    "skm.roc_auc_score(y_test, model.predict_proba(words_matrix_test)[:, 1])"
   ]
  },
  {
   "cell_type": "code",
   "execution_count": 161,
   "metadata": {},
   "outputs": [
    {
     "data": {
      "text/plain": [
       "0.5375460203991602"
      ]
     },
     "execution_count": 161,
     "metadata": {},
     "output_type": "execute_result"
    }
   ],
   "source": [
    "# random forest directly using tfidf\n",
    "rfc = RandomForestClassifier(n_estimators=1, n_jobs=-1, class_weight='balanced' )\n",
    "rfc.fit(words_matrix_train, y_train)\n",
    "skm.roc_auc_score(y_test, rfc.predict_proba(words_matrix_test)[:, 1])"
   ]
  },
  {
   "cell_type": "code",
   "execution_count": null,
   "metadata": {},
   "outputs": [],
   "source": [
    "#plot_importance(rfc, words_matrix, max_features=10)"
   ]
  },
  {
   "cell_type": "code",
   "execution_count": 162,
   "metadata": {},
   "outputs": [
    {
     "data": {
      "text/plain": [
       "(32814,)"
      ]
     },
     "execution_count": 162,
     "metadata": {},
     "output_type": "execute_result"
    }
   ],
   "source": [
    "y_test.shape"
   ]
  },
  {
   "cell_type": "code",
   "execution_count": 163,
   "metadata": {},
   "outputs": [],
   "source": [
    "v_prob = rfc.predict_proba(words_matrix_test)[:, 1]"
   ]
  },
  {
   "cell_type": "code",
   "execution_count": 164,
   "metadata": {},
   "outputs": [
    {
     "data": {
      "text/plain": [
       "(32814,)"
      ]
     },
     "execution_count": 164,
     "metadata": {},
     "output_type": "execute_result"
    }
   ],
   "source": [
    "v_prob.shape"
   ]
  },
  {
   "cell_type": "code",
   "execution_count": 166,
   "metadata": {},
   "outputs": [],
   "source": [
    "features = np.array(vectorizer.get_feature_names())"
   ]
  },
  {
   "cell_type": "code",
   "execution_count": 167,
   "metadata": {},
   "outputs": [
    {
     "data": {
      "text/plain": [
       "numpy.ndarray"
      ]
     },
     "execution_count": 167,
     "metadata": {},
     "output_type": "execute_result"
    }
   ],
   "source": [
    "type(features)"
   ]
  },
  {
   "cell_type": "code",
   "execution_count": 168,
   "metadata": {},
   "outputs": [],
   "source": [
    "table = DataFrame(words_matrix.toarray(), columns = features)"
   ]
  },
  {
   "cell_type": "code",
   "execution_count": 169,
   "metadata": {},
   "outputs": [
    {
     "data": {
      "text/html": [
       "<div>\n",
       "<style scoped>\n",
       "    .dataframe tbody tr th:only-of-type {\n",
       "        vertical-align: middle;\n",
       "    }\n",
       "\n",
       "    .dataframe tbody tr th {\n",
       "        vertical-align: top;\n",
       "    }\n",
       "\n",
       "    .dataframe thead th {\n",
       "        text-align: right;\n",
       "    }\n",
       "</style>\n",
       "<table border=\"1\" class=\"dataframe\">\n",
       "  <thead>\n",
       "    <tr style=\"text-align: right;\">\n",
       "      <th></th>\n",
       "      <th>000</th>\n",
       "      <th>10</th>\n",
       "      <th>100</th>\n",
       "      <th>1000</th>\n",
       "      <th>10000</th>\n",
       "      <th>100000</th>\n",
       "      <th>11</th>\n",
       "      <th>110</th>\n",
       "      <th>1100</th>\n",
       "      <th>11000</th>\n",
       "      <th>...</th>\n",
       "      <th>yearly</th>\n",
       "      <th>years</th>\n",
       "      <th>yelled</th>\n",
       "      <th>yelling</th>\n",
       "      <th>yes</th>\n",
       "      <th>yesterday</th>\n",
       "      <th>young</th>\n",
       "      <th>yr</th>\n",
       "      <th>yrs</th>\n",
       "      <th>zero</th>\n",
       "    </tr>\n",
       "  </thead>\n",
       "  <tbody>\n",
       "    <tr>\n",
       "      <th>0</th>\n",
       "      <td>0.0</td>\n",
       "      <td>0.0</td>\n",
       "      <td>0.0</td>\n",
       "      <td>0.0</td>\n",
       "      <td>0.0</td>\n",
       "      <td>0.0</td>\n",
       "      <td>0.0</td>\n",
       "      <td>0.0</td>\n",
       "      <td>0.0</td>\n",
       "      <td>0.0</td>\n",
       "      <td>...</td>\n",
       "      <td>0.0</td>\n",
       "      <td>0.0</td>\n",
       "      <td>0.00000</td>\n",
       "      <td>0.000000</td>\n",
       "      <td>0.0</td>\n",
       "      <td>0.00000</td>\n",
       "      <td>0.0</td>\n",
       "      <td>0.0</td>\n",
       "      <td>0.0</td>\n",
       "      <td>0.0</td>\n",
       "    </tr>\n",
       "    <tr>\n",
       "      <th>1</th>\n",
       "      <td>0.0</td>\n",
       "      <td>0.0</td>\n",
       "      <td>0.0</td>\n",
       "      <td>0.0</td>\n",
       "      <td>0.0</td>\n",
       "      <td>0.0</td>\n",
       "      <td>0.0</td>\n",
       "      <td>0.0</td>\n",
       "      <td>0.0</td>\n",
       "      <td>0.0</td>\n",
       "      <td>...</td>\n",
       "      <td>0.0</td>\n",
       "      <td>0.0</td>\n",
       "      <td>0.00000</td>\n",
       "      <td>0.000000</td>\n",
       "      <td>0.0</td>\n",
       "      <td>0.00000</td>\n",
       "      <td>0.0</td>\n",
       "      <td>0.0</td>\n",
       "      <td>0.0</td>\n",
       "      <td>0.0</td>\n",
       "    </tr>\n",
       "    <tr>\n",
       "      <th>2</th>\n",
       "      <td>0.0</td>\n",
       "      <td>0.0</td>\n",
       "      <td>0.0</td>\n",
       "      <td>0.0</td>\n",
       "      <td>0.0</td>\n",
       "      <td>0.0</td>\n",
       "      <td>0.0</td>\n",
       "      <td>0.0</td>\n",
       "      <td>0.0</td>\n",
       "      <td>0.0</td>\n",
       "      <td>...</td>\n",
       "      <td>0.0</td>\n",
       "      <td>0.0</td>\n",
       "      <td>0.14239</td>\n",
       "      <td>0.138678</td>\n",
       "      <td>0.0</td>\n",
       "      <td>0.00000</td>\n",
       "      <td>0.0</td>\n",
       "      <td>0.0</td>\n",
       "      <td>0.0</td>\n",
       "      <td>0.0</td>\n",
       "    </tr>\n",
       "    <tr>\n",
       "      <th>3</th>\n",
       "      <td>0.0</td>\n",
       "      <td>0.0</td>\n",
       "      <td>0.0</td>\n",
       "      <td>0.0</td>\n",
       "      <td>0.0</td>\n",
       "      <td>0.0</td>\n",
       "      <td>0.0</td>\n",
       "      <td>0.0</td>\n",
       "      <td>0.0</td>\n",
       "      <td>0.0</td>\n",
       "      <td>...</td>\n",
       "      <td>0.0</td>\n",
       "      <td>0.0</td>\n",
       "      <td>0.00000</td>\n",
       "      <td>0.000000</td>\n",
       "      <td>0.0</td>\n",
       "      <td>0.10595</td>\n",
       "      <td>0.0</td>\n",
       "      <td>0.0</td>\n",
       "      <td>0.0</td>\n",
       "      <td>0.0</td>\n",
       "    </tr>\n",
       "    <tr>\n",
       "      <th>4</th>\n",
       "      <td>0.0</td>\n",
       "      <td>0.0</td>\n",
       "      <td>0.0</td>\n",
       "      <td>0.0</td>\n",
       "      <td>0.0</td>\n",
       "      <td>0.0</td>\n",
       "      <td>0.0</td>\n",
       "      <td>0.0</td>\n",
       "      <td>0.0</td>\n",
       "      <td>0.0</td>\n",
       "      <td>...</td>\n",
       "      <td>0.0</td>\n",
       "      <td>0.0</td>\n",
       "      <td>0.00000</td>\n",
       "      <td>0.000000</td>\n",
       "      <td>0.0</td>\n",
       "      <td>0.00000</td>\n",
       "      <td>0.0</td>\n",
       "      <td>0.0</td>\n",
       "      <td>0.0</td>\n",
       "      <td>0.0</td>\n",
       "    </tr>\n",
       "  </tbody>\n",
       "</table>\n",
       "<p>5 rows × 5108 columns</p>\n",
       "</div>"
      ],
      "text/plain": [
       "   000   10  100  1000  10000  100000   11  110  1100  11000  ...   yearly  \\\n",
       "0  0.0  0.0  0.0   0.0    0.0     0.0  0.0  0.0   0.0    0.0  ...      0.0   \n",
       "1  0.0  0.0  0.0   0.0    0.0     0.0  0.0  0.0   0.0    0.0  ...      0.0   \n",
       "2  0.0  0.0  0.0   0.0    0.0     0.0  0.0  0.0   0.0    0.0  ...      0.0   \n",
       "3  0.0  0.0  0.0   0.0    0.0     0.0  0.0  0.0   0.0    0.0  ...      0.0   \n",
       "4  0.0  0.0  0.0   0.0    0.0     0.0  0.0  0.0   0.0    0.0  ...      0.0   \n",
       "\n",
       "   years   yelled   yelling  yes  yesterday  young   yr  yrs  zero  \n",
       "0    0.0  0.00000  0.000000  0.0    0.00000    0.0  0.0  0.0   0.0  \n",
       "1    0.0  0.00000  0.000000  0.0    0.00000    0.0  0.0  0.0   0.0  \n",
       "2    0.0  0.14239  0.138678  0.0    0.00000    0.0  0.0  0.0   0.0  \n",
       "3    0.0  0.00000  0.000000  0.0    0.10595    0.0  0.0  0.0   0.0  \n",
       "4    0.0  0.00000  0.000000  0.0    0.00000    0.0  0.0  0.0   0.0  \n",
       "\n",
       "[5 rows x 5108 columns]"
      ]
     },
     "execution_count": 169,
     "metadata": {},
     "output_type": "execute_result"
    }
   ],
   "source": [
    "table.head()"
   ]
  },
  {
   "cell_type": "code",
   "execution_count": 170,
   "metadata": {},
   "outputs": [
    {
     "data": {
      "image/png": "[encoded data removed]",
      "text/plain": [
       "<Figure size 432x288 with 1 Axes>"
      ]
     },
     "metadata": {
      "needs_background": "light"
     },
     "output_type": "display_data"
    }
   ],
   "source": [
    "plot_importance(rfc, table, max_features=20)\n",
    "font = {'family' : 'normal',\n",
    "        'weight' : 'bold',\n",
    "        'size'   : 22}\n",
    "plt.rcParams.update({'font.size': 12})"
   ]
  },
  {
   "cell_type": "code",
   "execution_count": 171,
   "metadata": {},
   "outputs": [],
   "source": [
    "from sklearn.linear_model import SGDClassifier"
   ]
  },
  {
   "cell_type": "code",
   "execution_count": 172,
   "metadata": {},
   "outputs": [],
   "source": [
    "sgd = SGDClassifier(loss= 'log')"
   ]
  },
  {
   "cell_type": "code",
   "execution_count": 173,
   "metadata": {},
   "outputs": [
    {
     "data": {
      "text/plain": [
       "SGDClassifier(alpha=0.0001, average=False, class_weight=None,\n",
       "              early_stopping=False, epsilon=0.1, eta0=0.0, fit_intercept=True,\n",
       "              l1_ratio=0.15, learning_rate='optimal', loss='log', max_iter=1000,\n",
       "              n_iter_no_change=5, n_jobs=None, penalty='l2', power_t=0.5,\n",
       "              random_state=None, shuffle=True, tol=0.001,\n",
       "              validation_fraction=0.1, verbose=0, warm_start=False)"
      ]
     },
     "execution_count": 173,
     "metadata": {},
     "output_type": "execute_result"
    }
   ],
   "source": [
    "sgd.fit(words_matrix_train, y_train)"
   ]
  },
  {
   "cell_type": "code",
   "execution_count": 174,
   "metadata": {},
   "outputs": [
    {
     "data": {
      "text/plain": [
       "0.6334025572042346"
      ]
     },
     "execution_count": 174,
     "metadata": {},
     "output_type": "execute_result"
    }
   ],
   "source": [
    "skm.roc_auc_score(y_test, sgd.predict_proba(words_matrix_test)[:, 1])"
   ]
  },
  {
   "cell_type": "code",
   "execution_count": 176,
   "metadata": {},
   "outputs": [],
   "source": [
    "#prediction according to threshold value.\n",
    "def model_predict(probs, threshold):\n",
    "    pred = []\n",
    "    for prob in probs:\n",
    "        if prob>=threshold:\n",
    "            pred.append(1)\n",
    "        else: pred.append(0)\n",
    "    return np.array(pred)"
   ]
  },
  {
   "cell_type": "code",
   "execution_count": 177,
   "metadata": {},
   "outputs": [],
   "source": [
    "probs = sgd.predict_proba(words_matrix_test)[:, 1]"
   ]
  },
  {
   "cell_type": "code",
   "execution_count": 178,
   "metadata": {},
   "outputs": [
    {
     "data": {
      "text/plain": [
       "(32814,)"
      ]
     },
     "execution_count": 178,
     "metadata": {},
     "output_type": "execute_result"
    }
   ],
   "source": [
    "probs.shape"
   ]
  },
  {
   "cell_type": "code",
   "execution_count": 179,
   "metadata": {},
   "outputs": [],
   "source": [
    "predict = np.array(model_predict(probs, 0.2))"
   ]
  },
  {
   "cell_type": "code",
   "execution_count": 180,
   "metadata": {},
   "outputs": [
    {
     "data": {
      "text/plain": [
       "32814"
      ]
     },
     "execution_count": 180,
     "metadata": {},
     "output_type": "execute_result"
    }
   ],
   "source": [
    "len(predict)"
   ]
  },
  {
   "cell_type": "code",
   "execution_count": 181,
   "metadata": {},
   "outputs": [
    {
     "data": {
      "text/html": [
       "<div>\n",
       "<style scoped>\n",
       "    .dataframe tbody tr th:only-of-type {\n",
       "        vertical-align: middle;\n",
       "    }\n",
       "\n",
       "    .dataframe tbody tr th {\n",
       "        vertical-align: top;\n",
       "    }\n",
       "\n",
       "    .dataframe thead th {\n",
       "        text-align: right;\n",
       "    }\n",
       "</style>\n",
       "<table border=\"1\" class=\"dataframe\">\n",
       "  <thead>\n",
       "    <tr style=\"text-align: right;\">\n",
       "      <th>col_0</th>\n",
       "      <th>0</th>\n",
       "      <th>1</th>\n",
       "    </tr>\n",
       "    <tr>\n",
       "      <th>row_0</th>\n",
       "      <th></th>\n",
       "      <th></th>\n",
       "    </tr>\n",
       "  </thead>\n",
       "  <tbody>\n",
       "    <tr>\n",
       "      <th>False</th>\n",
       "      <td>12832</td>\n",
       "      <td>12752</td>\n",
       "    </tr>\n",
       "    <tr>\n",
       "      <th>True</th>\n",
       "      <td>2301</td>\n",
       "      <td>4929</td>\n",
       "    </tr>\n",
       "  </tbody>\n",
       "</table>\n",
       "</div>"
      ],
      "text/plain": [
       "col_0      0      1\n",
       "row_0              \n",
       "False  12832  12752\n",
       "True    2301   4929"
      ]
     },
     "execution_count": 181,
     "metadata": {},
     "output_type": "execute_result"
    }
   ],
   "source": [
    "pd.crosstab(y_test,predict)"
   ]
  },
  {
   "cell_type": "code",
   "execution_count": 182,
   "metadata": {},
   "outputs": [],
   "source": [
    "def plot_curve(probabilities, labels, title):\n",
    "    '''\n",
    "    INPUT: numpy array, numpy array\n",
    "    OUTPUT: list, list, list\n",
    "\n",
    "    Take a numpy array of the predicted probabilities and a numpy array of the\n",
    "    true labels.\n",
    "    Return the True Positive Rates, False Positive Rates and Thresholds for the\n",
    "    ROC curve.\n",
    "    '''\n",
    "\n",
    "    thresholds = np.sort(probabilities)\n",
    "\n",
    "    tprs = []\n",
    "    fprs = []\n",
    "    fnrs = []\n",
    "    accus = []\n",
    "\n",
    "    num_positive_cases = sum(labels)\n",
    "    num_negative_cases = len(labels) - num_positive_cases\n",
    "   \n",
    "\n",
    "    for threshold in thresholds:\n",
    "        # With this threshold, give the prediction of each instance\n",
    "        predicted_positive = probabilities >= threshold\n",
    "        predicted = np.array([1 if i >= threshold else 0 for i in probabilities])\n",
    "        # Calculate the number of correctly predicted positive cases\n",
    "        true_positives = np.sum(predicted_positive * labels)\n",
    "        # Calculate the number of incorrectly predicted positive cases\n",
    "        false_positives = np.sum(predicted_positive) - true_positives\n",
    "        # Calculate the True Positive Rate\n",
    "        tpr = true_positives / float(num_positive_cases)\n",
    "        # Calculate the False Positive Rate\n",
    "        fpr = false_positives / float(num_negative_cases)\n",
    "        # Calculate the False Negative Rate\n",
    "        fnr = 1 - tpr\n",
    "        # Calculate the overall accuracy\n",
    "        accu = float(np.sum(predicted==labels))/len(labels)\n",
    "\n",
    "        fprs.append(fpr)\n",
    "        tprs.append(tpr)\n",
    "        fnrs.append(fnr)\n",
    "        accus.append(accu)\n",
    "        \n",
    "    fig = plt.figure(figsize=(8,6))   \n",
    "    plt.xlim([np.min(probabilities), np.max(probabilities)])\n",
    "    plt.ylim([0.0, 1.05])\n",
    "    plt.plot(thresholds.tolist(),fprs,  label = 'false positive rate')\n",
    "    plt.plot(thresholds.tolist(),fnrs, label = 'false negative rate')\n",
    "    plt.plot(thresholds.tolist(),accus, label = 'overall accuracy')\n",
    "    plt.plot(np.repeat([0.228],100), np.linspace(0,1.05,100), 'k--', label = 'selected threshold')\n",
    "    plt.legend(loc=\"lower right\")\n",
    "    plt.title(title)\n",
    "    plt.show()\n",
    "    fig.savefig('threshold_select.png')"
   ]
  },
  {
   "cell_type": "code",
   "execution_count": 183,
   "metadata": {},
   "outputs": [
    {
     "data": {
      "image/png": "[encoded data removed]",
      "text/plain": [
       "<Figure size 576x432 with 1 Axes>"
      ]
     },
     "metadata": {
      "needs_background": "light"
     },
     "output_type": "display_data"
    }
   ],
   "source": [
    "plot_curve(probs, y_test, 'SGD Classifier')"
   ]
  },
  {
   "cell_type": "code",
   "execution_count": null,
   "metadata": {},
   "outputs": [],
   "source": []
  }
 ],
 "metadata": {
  "kernelspec": {
   "display_name": "Python 3",
   "language": "python",
   "name": "python3"
  },
  "language_info": {
   "codemirror_mode": {
    "name": "ipython",
    "version": 3
   },
   "file_extension": ".py",
   "mimetype": "text/x-python",
   "name": "python",
   "nbconvert_exporter": "python",
   "pygments_lexer": "ipython3",
   "version": "3.7.6"
  }
 },
 "nbformat": 4,
 "nbformat_minor": 4
}
